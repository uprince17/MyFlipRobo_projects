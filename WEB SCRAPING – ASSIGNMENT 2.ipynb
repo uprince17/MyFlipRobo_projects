{
 "cells": [
  {
   "cell_type": "markdown",
   "id": "eeccc553",
   "metadata": {},
   "source": [
    "# WEB SCRAPING – ASSIGNMENT 2 (Using Selenium)"
   ]
  },
  {
   "cell_type": "markdown",
   "id": "bc8dbca1",
   "metadata": {},
   "source": [
    "## Q1: Write a python program to scrape data for “Data Analyst” Job position in “Bangalore” location. You have to scrape the job-title, job-location, company_name, experience_required. You have to scrape first 10 jobs data."
   ]
  },
  {
   "cell_type": "code",
   "execution_count": 1,
   "id": "14bfdbc9",
   "metadata": {},
   "outputs": [
    {
     "name": "stdout",
     "output_type": "stream",
     "text": [
      "Requirement already satisfied: selenium in c:\\programdata\\anaconda3\\lib\\site-packages (4.3.0)\n",
      "Requirement already satisfied: trio-websocket~=0.9 in c:\\programdata\\anaconda3\\lib\\site-packages (from selenium) (0.9.2)\n",
      "Requirement already satisfied: urllib3[secure,socks]~=1.26 in c:\\programdata\\anaconda3\\lib\\site-packages (from selenium) (1.26.7)\n",
      "Requirement already satisfied: trio~=0.17 in c:\\programdata\\anaconda3\\lib\\site-packages (from selenium) (0.21.0)\n",
      "Requirement already satisfied: cffi>=1.14 in c:\\programdata\\anaconda3\\lib\\site-packages (from trio~=0.17->selenium) (1.14.6)\n",
      "Requirement already satisfied: outcome in c:\\programdata\\anaconda3\\lib\\site-packages (from trio~=0.17->selenium) (1.2.0)\n",
      "Requirement already satisfied: idna in c:\\programdata\\anaconda3\\lib\\site-packages (from trio~=0.17->selenium) (3.2)\n",
      "Requirement already satisfied: attrs>=19.2.0 in c:\\programdata\\anaconda3\\lib\\site-packages (from trio~=0.17->selenium) (21.2.0)\n",
      "Requirement already satisfied: async-generator>=1.9 in c:\\programdata\\anaconda3\\lib\\site-packages (from trio~=0.17->selenium) (1.10)\n",
      "Requirement already satisfied: sniffio in c:\\programdata\\anaconda3\\lib\\site-packages (from trio~=0.17->selenium) (1.2.0)\n",
      "Requirement already satisfied: sortedcontainers in c:\\programdata\\anaconda3\\lib\\site-packages (from trio~=0.17->selenium) (2.4.0)\n",
      "Requirement already satisfied: pycparser in c:\\programdata\\anaconda3\\lib\\site-packages (from cffi>=1.14->trio~=0.17->selenium) (2.20)\n",
      "Requirement already satisfied: wsproto>=0.14 in c:\\programdata\\anaconda3\\lib\\site-packages (from trio-websocket~=0.9->selenium) (1.1.0)\n",
      "Requirement already satisfied: pyOpenSSL>=0.14 in c:\\programdata\\anaconda3\\lib\\site-packages (from urllib3[secure,socks]~=1.26->selenium) (21.0.0)\n",
      "Requirement already satisfied: cryptography>=1.3.4 in c:\\programdata\\anaconda3\\lib\\site-packages (from urllib3[secure,socks]~=1.26->selenium) (3.4.8)\n",
      "Requirement already satisfied: certifi in c:\\programdata\\anaconda3\\lib\\site-packages (from urllib3[secure,socks]~=1.26->selenium) (2021.10.8)\n",
      "Requirement already satisfied: PySocks!=1.5.7,<2.0,>=1.5.6 in c:\\programdata\\anaconda3\\lib\\site-packages (from urllib3[secure,socks]~=1.26->selenium) (1.7.1)\n",
      "Requirement already satisfied: six>=1.5.2 in c:\\programdata\\anaconda3\\lib\\site-packages (from pyOpenSSL>=0.14->urllib3[secure,socks]~=1.26->selenium) (1.16.0)\n",
      "Requirement already satisfied: h11<1,>=0.9.0 in c:\\programdata\\anaconda3\\lib\\site-packages (from wsproto>=0.14->trio-websocket~=0.9->selenium) (0.13.0)\n"
     ]
    }
   ],
   "source": [
    "#installing selenium first\n",
    "!pip install selenium\n"
   ]
  },
  {
   "cell_type": "code",
   "execution_count": 25,
   "id": "13cd3bbc",
   "metadata": {},
   "outputs": [],
   "source": [
    "#importing all required libraries\n",
    "import selenium\n",
    "import pandas as pd\n",
    "from selenium.webdriver.common.by import By\n",
    "import warnings\n",
    "warnings.filterwarnings(\"ignore\")"
   ]
  },
  {
   "cell_type": "code",
   "execution_count": 26,
   "id": "6b68cf5d",
   "metadata": {},
   "outputs": [],
   "source": [
    "driver = webdriver.Chrome(r'C:\\Users\\Arun\\Downloads\\chromedriver_win32 (1)/chromedriver.exe')"
   ]
  },
  {
   "cell_type": "code",
   "execution_count": 28,
   "id": "0f96c832",
   "metadata": {},
   "outputs": [],
   "source": [
    "url = 'http://www.naukri.com/'\n",
    "driver.get(url)"
   ]
  },
  {
   "cell_type": "code",
   "execution_count": 30,
   "id": "1438a77b",
   "metadata": {},
   "outputs": [
    {
     "data": {
      "text/plain": [
       "<selenium.webdriver.remote.webelement.WebElement (session=\"0d0e4d66f5a43ab8b008d11db6e8d095\", element=\"25c4509d-92d9-4b13-953c-884de132a0dd\")>"
      ]
     },
     "execution_count": 30,
     "metadata": {},
     "output_type": "execute_result"
    }
   ],
   "source": [
    "search_job = driver.find_element(By.CLASS_NAME,\"suggestor-input\")\n",
    "search_job"
   ]
  },
  {
   "cell_type": "code",
   "execution_count": 31,
   "id": "24084e1f",
   "metadata": {},
   "outputs": [],
   "source": [
    "search_job.send_keys('Data Analyst')"
   ]
  },
  {
   "cell_type": "code",
   "execution_count": 34,
   "id": "9c8e0478",
   "metadata": {},
   "outputs": [
    {
     "data": {
      "text/plain": [
       "<selenium.webdriver.remote.webelement.WebElement (session=\"0d0e4d66f5a43ab8b008d11db6e8d095\", element=\"8b09cd0f-f73f-47f3-bbf3-897c0dc05b28\")>"
      ]
     },
     "execution_count": 34,
     "metadata": {},
     "output_type": "execute_result"
    }
   ],
   "source": [
    "# finding element for job location bar\n",
    "search_loc = driver.find_element(By.XPATH,'/html/body/div[1]/div[2]/div[3]/div/div/div[5]/div/div/div/input')\n",
    "search_loc"
   ]
  },
  {
   "cell_type": "code",
   "execution_count": 35,
   "id": "b1799518",
   "metadata": {},
   "outputs": [],
   "source": [
    "search_loc.send_keys('Bangalore')"
   ]
  },
  {
   "cell_type": "code",
   "execution_count": 36,
   "id": "5eef9d3d",
   "metadata": {},
   "outputs": [
    {
     "data": {
      "text/plain": [
       "<selenium.webdriver.remote.webelement.WebElement (session=\"0d0e4d66f5a43ab8b008d11db6e8d095\", element=\"c25d1243-0e0b-4401-9d7b-6cfdb780921d\")>"
      ]
     },
     "execution_count": 36,
     "metadata": {},
     "output_type": "execute_result"
    }
   ],
   "source": [
    "search_btn = driver.find_element(By.XPATH,'/html/body/div[1]/div[2]/div[3]/div/div/div[6]')\n",
    "search_btn"
   ]
  },
  {
   "cell_type": "code",
   "execution_count": 37,
   "id": "4169416f",
   "metadata": {},
   "outputs": [],
   "source": [
    "search_btn.click()"
   ]
  },
  {
   "cell_type": "markdown",
   "id": "2eba13b4",
   "metadata": {},
   "source": [
    "##Extracting job title "
   ]
  },
  {
   "cell_type": "code",
   "execution_count": 46,
   "id": "352d3691",
   "metadata": {},
   "outputs": [
    {
     "data": {
      "text/plain": [
       "20"
      ]
     },
     "execution_count": 46,
     "metadata": {},
     "output_type": "execute_result"
    }
   ],
   "source": [
    "title_tag = driver.find_elements(By.XPATH,\"//a[@class='title fw500 ellipsis']\")\n",
    "len(title_tag)"
   ]
  },
  {
   "cell_type": "code",
   "execution_count": 47,
   "id": "a9a66352",
   "metadata": {},
   "outputs": [
    {
     "data": {
      "text/plain": [
       "20"
      ]
     },
     "execution_count": 47,
     "metadata": {},
     "output_type": "execute_result"
    }
   ],
   "source": [
    "job_title = []\n",
    "\n",
    "for i in title_tag:\n",
    "    job_title.append(i.text)\n",
    "    \n",
    "len(job_title)    "
   ]
  },
  {
   "cell_type": "code",
   "execution_count": 54,
   "id": "f738cac8",
   "metadata": {},
   "outputs": [
    {
     "data": {
      "text/plain": [
       "21"
      ]
     },
     "execution_count": 54,
     "metadata": {},
     "output_type": "execute_result"
    }
   ],
   "source": [
    "#Extracting job location \n",
    "locations_tags = driver.find_elements(By.XPATH,\"//li[@class='fleft grey-text br2 placeHolderLi location']/span\")\n",
    "len(locations_tags)"
   ]
  },
  {
   "cell_type": "code",
   "execution_count": 55,
   "id": "6e76fea3",
   "metadata": {
    "scrolled": true
   },
   "outputs": [
    {
     "data": {
      "text/plain": [
       "21"
      ]
     },
     "execution_count": 55,
     "metadata": {},
     "output_type": "execute_result"
    }
   ],
   "source": [
    "job_loc = []\n",
    "\n",
    "for i in locations_tags:\n",
    "    job_loc.append(i.text)\n",
    "    \n",
    "len(job_loc)    "
   ]
  },
  {
   "cell_type": "code",
   "execution_count": 58,
   "id": "d8880b50",
   "metadata": {},
   "outputs": [
    {
     "data": {
      "text/plain": [
       "['Bangalore/Bengaluru, karnataka',\n",
       " '(WFH during Covid)',\n",
       " 'Bangalore/Bengaluru',\n",
       " 'Bangalore/Bengaluru, Pune, Chennai',\n",
       " 'Bangalore/Bengaluru, Ahmedabad',\n",
       " 'Bangalore/Bengaluru',\n",
       " 'Bangalore/Bengaluru(Old Madras Road)',\n",
       " 'Bangalore/Bengaluru',\n",
       " 'Bangalore/Bengaluru',\n",
       " 'Bangalore/Bengaluru',\n",
       " 'Bangalore/Bengaluru',\n",
       " 'Bangalore/Bengaluru',\n",
       " 'Bangalore/Bengaluru',\n",
       " 'Bangalore/Bengaluru',\n",
       " 'Bangalore/Bengaluru',\n",
       " 'Bangalore/Bengaluru, Kolkata, New Delhi, Hyderabad/Secunderabad, Chennai, Mumbai (All Areas)',\n",
       " 'Bangalore/Bengaluru, Mumbai, Hyderabad/Secunderabad, Pune, Chennai, Ahmedabad',\n",
       " 'Bangalore/Bengaluru',\n",
       " 'Bangalore/Bengaluru',\n",
       " 'Bangalore/Bengaluru']"
      ]
     },
     "execution_count": 58,
     "metadata": {},
     "output_type": "execute_result"
    }
   ],
   "source": [
    "job_loc[:20]"
   ]
  },
  {
   "cell_type": "code",
   "execution_count": 49,
   "id": "63c96893",
   "metadata": {},
   "outputs": [
    {
     "data": {
      "text/plain": [
       "20"
      ]
     },
     "execution_count": 49,
     "metadata": {},
     "output_type": "execute_result"
    }
   ],
   "source": [
    "# Extract all the tags having company names\n",
    "company_tags = driver.find_elements(By.XPATH,\"//a[@class='subTitle ellipsis fleft']\")\n",
    "len(company_tags)"
   ]
  },
  {
   "cell_type": "code",
   "execution_count": 50,
   "id": "1e9c541a",
   "metadata": {},
   "outputs": [
    {
     "data": {
      "text/plain": [
       "20"
      ]
     },
     "execution_count": 50,
     "metadata": {},
     "output_type": "execute_result"
    }
   ],
   "source": [
    "company_name = []\n",
    "\n",
    "for i in company_tags:\n",
    "    company_name.append(i.text)\n",
    "    \n",
    "len(company_name) "
   ]
  },
  {
   "cell_type": "code",
   "execution_count": 51,
   "id": "b95fd040",
   "metadata": {},
   "outputs": [
    {
     "data": {
      "text/plain": [
       "20"
      ]
     },
     "execution_count": 51,
     "metadata": {},
     "output_type": "execute_result"
    }
   ],
   "source": [
    "#Extracting data for experience required\n",
    "exp_tags = driver.find_elements(By.XPATH,\"//li[@class='fleft grey-text br2 placeHolderLi experience'] //span\")\n",
    "len(exp_tags)"
   ]
  },
  {
   "cell_type": "code",
   "execution_count": 52,
   "id": "1deb71b7",
   "metadata": {},
   "outputs": [
    {
     "data": {
      "text/plain": [
       "20"
      ]
     },
     "execution_count": 52,
     "metadata": {},
     "output_type": "execute_result"
    }
   ],
   "source": [
    "exp_required = []\n",
    "\n",
    "for i in exp_tags:\n",
    "    exp_required.append(i.text)\n",
    "    \n",
    "len(exp_required)    "
   ]
  },
  {
   "cell_type": "markdown",
   "id": "d9041689",
   "metadata": {},
   "source": [
    "# Creating a DataFarme for the Data Analyst jobs"
   ]
  },
  {
   "cell_type": "code",
   "execution_count": 59,
   "id": "feec1704",
   "metadata": {},
   "outputs": [],
   "source": [
    "jobs = pd.DataFrame({})\n",
    "jobs['Title'] = job_title[:10]\n",
    "jobs['Location'] = job_loc[:10]\n",
    "jobs['Company'] = company_name[:10]\n",
    "jobs['Experience_required'] = exp_required[:10]"
   ]
  },
  {
   "cell_type": "code",
   "execution_count": 60,
   "id": "33f58b38",
   "metadata": {},
   "outputs": [
    {
     "data": {
      "text/html": [
       "<div>\n",
       "<style scoped>\n",
       "    .dataframe tbody tr th:only-of-type {\n",
       "        vertical-align: middle;\n",
       "    }\n",
       "\n",
       "    .dataframe tbody tr th {\n",
       "        vertical-align: top;\n",
       "    }\n",
       "\n",
       "    .dataframe thead th {\n",
       "        text-align: right;\n",
       "    }\n",
       "</style>\n",
       "<table border=\"1\" class=\"dataframe\">\n",
       "  <thead>\n",
       "    <tr style=\"text-align: right;\">\n",
       "      <th></th>\n",
       "      <th>Title</th>\n",
       "      <th>Location</th>\n",
       "      <th>Company</th>\n",
       "      <th>Experience_required</th>\n",
       "    </tr>\n",
       "  </thead>\n",
       "  <tbody>\n",
       "    <tr>\n",
       "      <th>0</th>\n",
       "      <td>Sr.Business Data Analyst</td>\n",
       "      <td>Bangalore/Bengaluru, karnataka</td>\n",
       "      <td>Collabera</td>\n",
       "      <td>6-11 Yrs</td>\n",
       "    </tr>\n",
       "    <tr>\n",
       "      <th>1</th>\n",
       "      <td>Sr Data Analyst</td>\n",
       "      <td>(WFH during Covid)</td>\n",
       "      <td>Thomson Reuters</td>\n",
       "      <td>5-8 Yrs</td>\n",
       "    </tr>\n",
       "    <tr>\n",
       "      <th>2</th>\n",
       "      <td>Senior Data Analysis Analyst</td>\n",
       "      <td>Bangalore/Bengaluru</td>\n",
       "      <td>Capco</td>\n",
       "      <td>7-12 Yrs</td>\n",
       "    </tr>\n",
       "    <tr>\n",
       "      <th>3</th>\n",
       "      <td>Job opportunity For Data Analyst at Trellance ...</td>\n",
       "      <td>Bangalore/Bengaluru, Pune, Chennai</td>\n",
       "      <td>CURise Analytics Pvt. Ltd.</td>\n",
       "      <td>0-2 Yrs</td>\n",
       "    </tr>\n",
       "    <tr>\n",
       "      <th>4</th>\n",
       "      <td>Data Analyst</td>\n",
       "      <td>Bangalore/Bengaluru, Ahmedabad</td>\n",
       "      <td>Thomson Reuters</td>\n",
       "      <td>2-3 Yrs</td>\n",
       "    </tr>\n",
       "    <tr>\n",
       "      <th>5</th>\n",
       "      <td>Senior Data Analyst</td>\n",
       "      <td>Bangalore/Bengaluru</td>\n",
       "      <td>KrazyBee</td>\n",
       "      <td>3-6 Yrs</td>\n",
       "    </tr>\n",
       "    <tr>\n",
       "      <th>6</th>\n",
       "      <td>Associate Data Analyst</td>\n",
       "      <td>Bangalore/Bengaluru(Old Madras Road)</td>\n",
       "      <td>Optum</td>\n",
       "      <td>2-7 Yrs</td>\n",
       "    </tr>\n",
       "    <tr>\n",
       "      <th>7</th>\n",
       "      <td>Associate Data Analyst</td>\n",
       "      <td>Bangalore/Bengaluru</td>\n",
       "      <td>Optum</td>\n",
       "      <td>1-4 Yrs</td>\n",
       "    </tr>\n",
       "    <tr>\n",
       "      <th>8</th>\n",
       "      <td>Data Analyst/Senior Data Analyst</td>\n",
       "      <td>Bangalore/Bengaluru</td>\n",
       "      <td>Meesho</td>\n",
       "      <td>3-6 Yrs</td>\n",
       "    </tr>\n",
       "    <tr>\n",
       "      <th>9</th>\n",
       "      <td>Financial Data Analyst</td>\n",
       "      <td>Bangalore/Bengaluru</td>\n",
       "      <td>Nuance India</td>\n",
       "      <td>3-8 Yrs</td>\n",
       "    </tr>\n",
       "  </tbody>\n",
       "</table>\n",
       "</div>"
      ],
      "text/plain": [
       "                                               Title  \\\n",
       "0                           Sr.Business Data Analyst   \n",
       "1                                    Sr Data Analyst   \n",
       "2                       Senior Data Analysis Analyst   \n",
       "3  Job opportunity For Data Analyst at Trellance ...   \n",
       "4                                       Data Analyst   \n",
       "5                                Senior Data Analyst   \n",
       "6                             Associate Data Analyst   \n",
       "7                             Associate Data Analyst   \n",
       "8                   Data Analyst/Senior Data Analyst   \n",
       "9                             Financial Data Analyst   \n",
       "\n",
       "                               Location                     Company  \\\n",
       "0        Bangalore/Bengaluru, karnataka                   Collabera   \n",
       "1                    (WFH during Covid)             Thomson Reuters   \n",
       "2                   Bangalore/Bengaluru                       Capco   \n",
       "3    Bangalore/Bengaluru, Pune, Chennai  CURise Analytics Pvt. Ltd.   \n",
       "4        Bangalore/Bengaluru, Ahmedabad             Thomson Reuters   \n",
       "5                   Bangalore/Bengaluru                    KrazyBee   \n",
       "6  Bangalore/Bengaluru(Old Madras Road)                       Optum   \n",
       "7                   Bangalore/Bengaluru                       Optum   \n",
       "8                   Bangalore/Bengaluru                      Meesho   \n",
       "9                   Bangalore/Bengaluru                Nuance India   \n",
       "\n",
       "  Experience_required  \n",
       "0            6-11 Yrs  \n",
       "1             5-8 Yrs  \n",
       "2            7-12 Yrs  \n",
       "3             0-2 Yrs  \n",
       "4             2-3 Yrs  \n",
       "5             3-6 Yrs  \n",
       "6             2-7 Yrs  \n",
       "7             1-4 Yrs  \n",
       "8             3-6 Yrs  \n",
       "9             3-8 Yrs  "
      ]
     },
     "execution_count": 60,
     "metadata": {},
     "output_type": "execute_result"
    }
   ],
   "source": [
    "jobs"
   ]
  },
  {
   "cell_type": "code",
   "execution_count": 61,
   "id": "be495d8d",
   "metadata": {},
   "outputs": [],
   "source": [
    "driver.close()"
   ]
  },
  {
   "cell_type": "markdown",
   "id": "ee2d8827",
   "metadata": {},
   "source": [
    "# Q2: Write a python program to scrape data for “Data Scientist” Job position in “Bangalore” location. You have to scrape the job-title, job-location, company_name. You have to scrape first 10 jobs data. "
   ]
  },
  {
   "cell_type": "code",
   "execution_count": 62,
   "id": "fbe95b77",
   "metadata": {},
   "outputs": [],
   "source": [
    "#lets connect with driver first\n",
    "driver = webdriver.Chrome(r'C:\\Users\\Arun\\Downloads\\chromedriver_win32 (1)/chromedriver.exe')"
   ]
  },
  {
   "cell_type": "code",
   "execution_count": 63,
   "id": "e5ab8365",
   "metadata": {},
   "outputs": [],
   "source": [
    "url = 'http://www.naukri.com'\n",
    "driver.get(url)"
   ]
  },
  {
   "cell_type": "code",
   "execution_count": 64,
   "id": "460431bd",
   "metadata": {},
   "outputs": [
    {
     "data": {
      "text/plain": [
       "<selenium.webdriver.remote.webelement.WebElement (session=\"d4002963b1f769c998f409c6f2b81041\", element=\"8250fafc-b3c7-4ddb-a65b-c93053b6b2dc\")>"
      ]
     },
     "execution_count": 64,
     "metadata": {},
     "output_type": "execute_result"
    }
   ],
   "source": [
    "search_job = driver.find_element(By.CLASS_NAME,\"suggestor-input\")\n",
    "search_job"
   ]
  },
  {
   "cell_type": "code",
   "execution_count": 65,
   "id": "bcd7903d",
   "metadata": {},
   "outputs": [],
   "source": [
    "search_job.send_keys('Data Scientist')"
   ]
  },
  {
   "cell_type": "code",
   "execution_count": 66,
   "id": "8ebcfc0e",
   "metadata": {},
   "outputs": [
    {
     "data": {
      "text/plain": [
       "<selenium.webdriver.remote.webelement.WebElement (session=\"d4002963b1f769c998f409c6f2b81041\", element=\"5edcecd2-c123-44a9-b0d9-5c33966479b6\")>"
      ]
     },
     "execution_count": 66,
     "metadata": {},
     "output_type": "execute_result"
    }
   ],
   "source": [
    "search_loc = driver.find_element(By.XPATH,'/html/body/div[1]/div[2]/div[3]/div/div/div[5]/div/div/div/input')\n",
    "search_loc"
   ]
  },
  {
   "cell_type": "code",
   "execution_count": 67,
   "id": "b0c3ae09",
   "metadata": {},
   "outputs": [],
   "source": [
    "search_loc.send_keys('Bangalore')"
   ]
  },
  {
   "cell_type": "code",
   "execution_count": 68,
   "id": "d1d35bdc",
   "metadata": {},
   "outputs": [
    {
     "data": {
      "text/plain": [
       "<selenium.webdriver.remote.webelement.WebElement (session=\"d4002963b1f769c998f409c6f2b81041\", element=\"572b1771-fee2-4545-a8cc-4256763b4b36\")>"
      ]
     },
     "execution_count": 68,
     "metadata": {},
     "output_type": "execute_result"
    }
   ],
   "source": [
    "search_btn = driver.find_element(By.XPATH,'/html/body/div[1]/div[2]/div[3]/div/div/div[6]')\n",
    "search_btn"
   ]
  },
  {
   "cell_type": "code",
   "execution_count": 69,
   "id": "52b7bdf7",
   "metadata": {},
   "outputs": [],
   "source": [
    "search_btn.click()"
   ]
  },
  {
   "cell_type": "code",
   "execution_count": 70,
   "id": "e47e4ff6",
   "metadata": {},
   "outputs": [
    {
     "data": {
      "text/plain": [
       "20"
      ]
     },
     "execution_count": 70,
     "metadata": {},
     "output_type": "execute_result"
    }
   ],
   "source": [
    "#Extracting job titles\n",
    "title_tag1 = driver.find_elements(By.XPATH,\"//a[@class='title fw500 ellipsis']\")\n",
    "len(title_tag1)"
   ]
  },
  {
   "cell_type": "code",
   "execution_count": 71,
   "id": "b1557ad5",
   "metadata": {},
   "outputs": [
    {
     "data": {
      "text/plain": [
       "20"
      ]
     },
     "execution_count": 71,
     "metadata": {},
     "output_type": "execute_result"
    }
   ],
   "source": [
    "job_title_ds = []\n",
    "\n",
    "for i in title_tag1:\n",
    "    job_title_ds.append(i.text)\n",
    "    \n",
    "len(job_title_ds) "
   ]
  },
  {
   "cell_type": "code",
   "execution_count": 73,
   "id": "a011c96a",
   "metadata": {},
   "outputs": [
    {
     "data": {
      "text/plain": [
       "22"
      ]
     },
     "execution_count": 73,
     "metadata": {},
     "output_type": "execute_result"
    }
   ],
   "source": [
    "#Extracting job location\n",
    "loc_tags1 = driver.find_elements(By.XPATH,\"//li[@class='fleft grey-text br2 placeHolderLi location']/span\")\n",
    "len(loc_tags1)"
   ]
  },
  {
   "cell_type": "code",
   "execution_count": 75,
   "id": "86e25603",
   "metadata": {},
   "outputs": [
    {
     "data": {
      "text/plain": [
       "22"
      ]
     },
     "execution_count": 75,
     "metadata": {},
     "output_type": "execute_result"
    }
   ],
   "source": [
    "job_loc_ds = []\n",
    "\n",
    "for i in loc_tags1:\n",
    "    job_loc_ds.append(i.text)\n",
    "    \n",
    "len(job_loc_ds) "
   ]
  },
  {
   "cell_type": "code",
   "execution_count": 76,
   "id": "1df4f41b",
   "metadata": {},
   "outputs": [
    {
     "data": {
      "text/plain": [
       "20"
      ]
     },
     "execution_count": 76,
     "metadata": {},
     "output_type": "execute_result"
    }
   ],
   "source": [
    "# Extracting company names.\n",
    "company_tags1 = driver.find_elements(By.XPATH,\"//a[@class='subTitle ellipsis fleft']\")\n",
    "len(company_tags1)"
   ]
  },
  {
   "cell_type": "code",
   "execution_count": 77,
   "id": "d9df7865",
   "metadata": {},
   "outputs": [
    {
     "data": {
      "text/plain": [
       "20"
      ]
     },
     "execution_count": 77,
     "metadata": {},
     "output_type": "execute_result"
    }
   ],
   "source": [
    "company_name_ds = []\n",
    "\n",
    "for i in company_tags1:\n",
    "    company_name_ds.append(i.text)\n",
    "    \n",
    "len(company_name_ds) "
   ]
  },
  {
   "cell_type": "code",
   "execution_count": 78,
   "id": "d830ee00",
   "metadata": {},
   "outputs": [],
   "source": [
    "jobs_ds = pd.DataFrame({})\n",
    "jobs_ds['Title'] = job_title_ds[:10]\n",
    "jobs_ds['Location'] = job_loc_ds[:10]\n",
    "jobs_ds['Company'] = company_name_ds[:10]"
   ]
  },
  {
   "cell_type": "code",
   "execution_count": 79,
   "id": "63dfafb7",
   "metadata": {},
   "outputs": [
    {
     "data": {
      "text/html": [
       "<div>\n",
       "<style scoped>\n",
       "    .dataframe tbody tr th:only-of-type {\n",
       "        vertical-align: middle;\n",
       "    }\n",
       "\n",
       "    .dataframe tbody tr th {\n",
       "        vertical-align: top;\n",
       "    }\n",
       "\n",
       "    .dataframe thead th {\n",
       "        text-align: right;\n",
       "    }\n",
       "</style>\n",
       "<table border=\"1\" class=\"dataframe\">\n",
       "  <thead>\n",
       "    <tr style=\"text-align: right;\">\n",
       "      <th></th>\n",
       "      <th>Title</th>\n",
       "      <th>Location</th>\n",
       "      <th>Company</th>\n",
       "    </tr>\n",
       "  </thead>\n",
       "  <tbody>\n",
       "    <tr>\n",
       "      <th>0</th>\n",
       "      <td>Data Scientist/ Senior Data Scientist</td>\n",
       "      <td>Bangalore/Bengaluru, Pune, Gurgaon/Gurugram, C...</td>\n",
       "      <td>Fractal Analytics</td>\n",
       "    </tr>\n",
       "    <tr>\n",
       "      <th>1</th>\n",
       "      <td>Urgent Job Opening For AI Practitioner - Data ...</td>\n",
       "      <td>Bangalore/Bengaluru, Kochi/Cochin, New Delhi, ...</td>\n",
       "      <td>Wipro</td>\n",
       "    </tr>\n",
       "    <tr>\n",
       "      <th>2</th>\n",
       "      <td>Dataiku Consultant</td>\n",
       "      <td>Bangalore/Bengaluru, Pune, Chennai</td>\n",
       "      <td>Wipro</td>\n",
       "    </tr>\n",
       "    <tr>\n",
       "      <th>3</th>\n",
       "      <td>Data Scientist</td>\n",
       "      <td>Bangalore/Bengaluru</td>\n",
       "      <td>Applied Materials</td>\n",
       "    </tr>\n",
       "    <tr>\n",
       "      <th>4</th>\n",
       "      <td>Data &amp; Analytics Tech - Informatica Cloud- Sen...</td>\n",
       "      <td>Bangalore/Bengaluru</td>\n",
       "      <td>PwC</td>\n",
       "    </tr>\n",
       "    <tr>\n",
       "      <th>5</th>\n",
       "      <td>Data Scientist: Advanced Analytics</td>\n",
       "      <td>Bangalore/Bengaluru</td>\n",
       "      <td>IBM</td>\n",
       "    </tr>\n",
       "    <tr>\n",
       "      <th>6</th>\n",
       "      <td>Research Scientist</td>\n",
       "      <td>Bangalore/Bengaluru</td>\n",
       "      <td>IBM</td>\n",
       "    </tr>\n",
       "    <tr>\n",
       "      <th>7</th>\n",
       "      <td>Data Science - Senior Data Scientist - Analytics</td>\n",
       "      <td>Bangalore/Bengaluru, Noida</td>\n",
       "      <td>Paytm</td>\n",
       "    </tr>\n",
       "    <tr>\n",
       "      <th>8</th>\n",
       "      <td>Principal - Data Scientist</td>\n",
       "      <td>Bangalore/Bengaluru</td>\n",
       "      <td>Schneider Electric</td>\n",
       "    </tr>\n",
       "    <tr>\n",
       "      <th>9</th>\n",
       "      <td>Research and Development -AI/ML -(PhD )</td>\n",
       "      <td>Bangalore/Bengaluru, Noida, Hyderabad/Secunder...</td>\n",
       "      <td>EXL</td>\n",
       "    </tr>\n",
       "  </tbody>\n",
       "</table>\n",
       "</div>"
      ],
      "text/plain": [
       "                                               Title  \\\n",
       "0              Data Scientist/ Senior Data Scientist   \n",
       "1  Urgent Job Opening For AI Practitioner - Data ...   \n",
       "2                                 Dataiku Consultant   \n",
       "3                                     Data Scientist   \n",
       "4  Data & Analytics Tech - Informatica Cloud- Sen...   \n",
       "5                 Data Scientist: Advanced Analytics   \n",
       "6                                 Research Scientist   \n",
       "7   Data Science - Senior Data Scientist - Analytics   \n",
       "8                         Principal - Data Scientist   \n",
       "9            Research and Development -AI/ML -(PhD )   \n",
       "\n",
       "                                            Location             Company  \n",
       "0  Bangalore/Bengaluru, Pune, Gurgaon/Gurugram, C...   Fractal Analytics  \n",
       "1  Bangalore/Bengaluru, Kochi/Cochin, New Delhi, ...               Wipro  \n",
       "2                 Bangalore/Bengaluru, Pune, Chennai               Wipro  \n",
       "3                                Bangalore/Bengaluru   Applied Materials  \n",
       "4                                Bangalore/Bengaluru                 PwC  \n",
       "5                                Bangalore/Bengaluru                 IBM  \n",
       "6                                Bangalore/Bengaluru                 IBM  \n",
       "7                         Bangalore/Bengaluru, Noida               Paytm  \n",
       "8                                Bangalore/Bengaluru  Schneider Electric  \n",
       "9  Bangalore/Bengaluru, Noida, Hyderabad/Secunder...                 EXL  "
      ]
     },
     "execution_count": 79,
     "metadata": {},
     "output_type": "execute_result"
    }
   ],
   "source": [
    "jobs_ds"
   ]
  },
  {
   "cell_type": "code",
   "execution_count": 80,
   "id": "79d1e7da",
   "metadata": {},
   "outputs": [],
   "source": [
    "driver.close()"
   ]
  },
  {
   "cell_type": "markdown",
   "id": "40357ea5",
   "metadata": {},
   "source": [
    "# Q3: In this question you have to scrape data using the filters available on the webpage."
   ]
  },
  {
   "cell_type": "code",
   "execution_count": 81,
   "id": "3c6c4bfd",
   "metadata": {},
   "outputs": [],
   "source": [
    "#lets connect with driver first\n",
    "driver = webdriver.Chrome(r'C:\\Users\\Arun\\Downloads\\chromedriver_win32 (1)/chromedriver.exe')"
   ]
  },
  {
   "cell_type": "code",
   "execution_count": 82,
   "id": "bc7ea5c7",
   "metadata": {},
   "outputs": [],
   "source": [
    "url = 'http://www.naukri.com'\n",
    "driver.get(url)"
   ]
  },
  {
   "cell_type": "code",
   "execution_count": 83,
   "id": "fcac3715",
   "metadata": {},
   "outputs": [
    {
     "data": {
      "text/plain": [
       "<selenium.webdriver.remote.webelement.WebElement (session=\"70ead179942b2b86971199303ebaae5f\", element=\"7d2167dc-cf14-46f8-96dc-008fc0ae8673\")>"
      ]
     },
     "execution_count": 83,
     "metadata": {},
     "output_type": "execute_result"
    }
   ],
   "source": [
    "search_job = driver.find_element(By.CLASS_NAME,\"suggestor-input\")\n",
    "search_job"
   ]
  },
  {
   "cell_type": "code",
   "execution_count": 84,
   "id": "7e975e62",
   "metadata": {},
   "outputs": [],
   "source": [
    "search_job.send_keys('Data Scientist')"
   ]
  },
  {
   "cell_type": "code",
   "execution_count": 85,
   "id": "e073674c",
   "metadata": {},
   "outputs": [
    {
     "data": {
      "text/plain": [
       "<selenium.webdriver.remote.webelement.WebElement (session=\"70ead179942b2b86971199303ebaae5f\", element=\"41253a67-28b1-4315-9b8a-bae4b4c422b6\")>"
      ]
     },
     "execution_count": 85,
     "metadata": {},
     "output_type": "execute_result"
    }
   ],
   "source": [
    "search_loc = driver.find_element(By.XPATH,'/html/body/div[1]/div[2]/div[3]/div/div/div[5]/div/div/div/input')\n",
    "search_loc"
   ]
  },
  {
   "cell_type": "code",
   "execution_count": 86,
   "id": "304d0d97",
   "metadata": {},
   "outputs": [],
   "source": [
    "search_loc.send_keys('Delhi/NCR')"
   ]
  },
  {
   "cell_type": "code",
   "execution_count": 87,
   "id": "0db146c0",
   "metadata": {},
   "outputs": [
    {
     "data": {
      "text/plain": [
       "<selenium.webdriver.remote.webelement.WebElement (session=\"70ead179942b2b86971199303ebaae5f\", element=\"c018cda7-069d-4a42-b110-1ae3d9a78372\")>"
      ]
     },
     "execution_count": 87,
     "metadata": {},
     "output_type": "execute_result"
    }
   ],
   "source": [
    "search_btn = driver.find_element(By.XPATH,'/html/body/div[1]/div[2]/div[3]/div/div/div[6]')\n",
    "search_btn"
   ]
  },
  {
   "cell_type": "code",
   "execution_count": 88,
   "id": "05dafb33",
   "metadata": {},
   "outputs": [],
   "source": [
    "search_btn.click()"
   ]
  },
  {
   "cell_type": "code",
   "execution_count": 91,
   "id": "24623079",
   "metadata": {},
   "outputs": [
    {
     "data": {
      "text/plain": [
       "<selenium.webdriver.remote.webelement.WebElement (session=\"70ead179942b2b86971199303ebaae5f\", element=\"4d84c2d1-1865-4538-bbe6-125053bae90e\")>"
      ]
     },
     "execution_count": 91,
     "metadata": {},
     "output_type": "execute_result"
    }
   ],
   "source": [
    "#Now for applying filter for salary\n",
    "salary_filter = driver.find_element(By.XPATH,'/html/body/div[1]/div[3]/div[2]/section[1]/div[2]/div[5]/div[2]/div[1]/label/p/span[1]')\n",
    "salary_filter"
   ]
  },
  {
   "cell_type": "code",
   "execution_count": 92,
   "id": "2186bcee",
   "metadata": {},
   "outputs": [],
   "source": [
    "salary_filter.click()"
   ]
  },
  {
   "cell_type": "code",
   "execution_count": 93,
   "id": "391b0d51",
   "metadata": {},
   "outputs": [
    {
     "data": {
      "text/plain": [
       "<selenium.webdriver.remote.webelement.WebElement (session=\"70ead179942b2b86971199303ebaae5f\", element=\"c508edea-db1d-47f1-b8c8-f9dd6302fe37\")>"
      ]
     },
     "execution_count": 93,
     "metadata": {},
     "output_type": "execute_result"
    }
   ],
   "source": [
    "#Now for applying filter for Delhi/NCR\n",
    "loc_filter = driver.find_element(By.XPATH,'/html/body/div[1]/div[3]/div[2]/section[1]/div[2]/div[13]/div[2]/div[2]/label/p/span[1]')\n",
    "loc_filter"
   ]
  },
  {
   "cell_type": "code",
   "execution_count": 94,
   "id": "6b061c55",
   "metadata": {},
   "outputs": [],
   "source": [
    "loc_filter.click()"
   ]
  },
  {
   "cell_type": "code",
   "execution_count": 95,
   "id": "6431b78b",
   "metadata": {},
   "outputs": [
    {
     "data": {
      "text/plain": [
       "9"
      ]
     },
     "execution_count": 95,
     "metadata": {},
     "output_type": "execute_result"
    }
   ],
   "source": [
    "#Extracting data for job title\n",
    "title_tag_filter = driver.find_elements(By.XPATH,\"//a[@class='title fw500 ellipsis']\")\n",
    "len(title_tag_filter)"
   ]
  },
  {
   "cell_type": "code",
   "execution_count": 96,
   "id": "6cd02ef7",
   "metadata": {},
   "outputs": [
    {
     "data": {
      "text/plain": [
       "9"
      ]
     },
     "execution_count": 96,
     "metadata": {},
     "output_type": "execute_result"
    }
   ],
   "source": [
    "job_title_filter = []\n",
    "\n",
    "for i in title_tag_filter:\n",
    "    job_title_filter.append(i.text)\n",
    "    \n",
    "len(job_title_filter) "
   ]
  },
  {
   "cell_type": "code",
   "execution_count": 97,
   "id": "c6b8daaa",
   "metadata": {},
   "outputs": [
    {
     "data": {
      "text/plain": [
       "9"
      ]
     },
     "execution_count": 97,
     "metadata": {},
     "output_type": "execute_result"
    }
   ],
   "source": [
    "#Extracting job location\n",
    "loc_tags_filter = driver.find_elements(By.XPATH,\"//li[@class='fleft grey-text br2 placeHolderLi location']/span\")\n",
    "len(loc_tags_filter)"
   ]
  },
  {
   "cell_type": "code",
   "execution_count": 98,
   "id": "ef03e216",
   "metadata": {},
   "outputs": [
    {
     "data": {
      "text/plain": [
       "9"
      ]
     },
     "execution_count": 98,
     "metadata": {},
     "output_type": "execute_result"
    }
   ],
   "source": [
    "job_loc_filter = []\n",
    "\n",
    "for i in loc_tags_filter:\n",
    "    job_loc_filter.append(i.text)\n",
    "    \n",
    "len(job_loc_filter) "
   ]
  },
  {
   "cell_type": "code",
   "execution_count": 99,
   "id": "6464a428",
   "metadata": {},
   "outputs": [
    {
     "data": {
      "text/plain": [
       "9"
      ]
     },
     "execution_count": 99,
     "metadata": {},
     "output_type": "execute_result"
    }
   ],
   "source": [
    "#Extracting company names.\n",
    "company_tags_filter = driver.find_elements(By.XPATH,\"//a[@class='subTitle ellipsis fleft']\")\n",
    "len(company_tags_filter)"
   ]
  },
  {
   "cell_type": "code",
   "execution_count": 100,
   "id": "f57e3d86",
   "metadata": {},
   "outputs": [
    {
     "data": {
      "text/plain": [
       "9"
      ]
     },
     "execution_count": 100,
     "metadata": {},
     "output_type": "execute_result"
    }
   ],
   "source": [
    "company_name_filter = []\n",
    "\n",
    "for i in company_tags_filter:\n",
    "    company_name_filter.append(i.text)\n",
    "    \n",
    "len(company_name_filter) "
   ]
  },
  {
   "cell_type": "code",
   "execution_count": 101,
   "id": "b31dfb5a",
   "metadata": {},
   "outputs": [
    {
     "data": {
      "text/plain": [
       "9"
      ]
     },
     "execution_count": 101,
     "metadata": {},
     "output_type": "execute_result"
    }
   ],
   "source": [
    "exp_tags_filter = driver.find_elements(By.XPATH,\"//li[@class='fleft grey-text br2 placeHolderLi experience'] //span\")\n",
    "len(exp_tags_filter)"
   ]
  },
  {
   "cell_type": "code",
   "execution_count": 102,
   "id": "7a9c676a",
   "metadata": {},
   "outputs": [
    {
     "data": {
      "text/plain": [
       "9"
      ]
     },
     "execution_count": 102,
     "metadata": {},
     "output_type": "execute_result"
    }
   ],
   "source": [
    "exp_required_filter = []\n",
    "\n",
    "for i in exp_tags_filter:\n",
    "    exp_required_filter.append(i.text)\n",
    "    \n",
    "len(exp_required_filter)  "
   ]
  },
  {
   "cell_type": "code",
   "execution_count": 103,
   "id": "7a62741f",
   "metadata": {},
   "outputs": [],
   "source": [
    "job = pd.DataFrame({})\n",
    "job['Title'] = job_title_filter\n",
    "job['Location'] = job_loc_filter\n",
    "job['Company'] = company_name_filter\n",
    "job['Experience_required'] = exp_required_filter"
   ]
  },
  {
   "cell_type": "code",
   "execution_count": 104,
   "id": "ab9af443",
   "metadata": {},
   "outputs": [
    {
     "data": {
      "text/html": [
       "<div>\n",
       "<style scoped>\n",
       "    .dataframe tbody tr th:only-of-type {\n",
       "        vertical-align: middle;\n",
       "    }\n",
       "\n",
       "    .dataframe tbody tr th {\n",
       "        vertical-align: top;\n",
       "    }\n",
       "\n",
       "    .dataframe thead th {\n",
       "        text-align: right;\n",
       "    }\n",
       "</style>\n",
       "<table border=\"1\" class=\"dataframe\">\n",
       "  <thead>\n",
       "    <tr style=\"text-align: right;\">\n",
       "      <th></th>\n",
       "      <th>Title</th>\n",
       "      <th>Location</th>\n",
       "      <th>Company</th>\n",
       "      <th>Experience_required</th>\n",
       "    </tr>\n",
       "  </thead>\n",
       "  <tbody>\n",
       "    <tr>\n",
       "      <th>0</th>\n",
       "      <td>Data Scientist For Healthcare Product team</td>\n",
       "      <td>Delhi / NCR, Chennai, Bangalore/Bengaluru</td>\n",
       "      <td>8KMiles Software Services</td>\n",
       "      <td>2-7 Yrs</td>\n",
       "    </tr>\n",
       "    <tr>\n",
       "      <th>1</th>\n",
       "      <td>Data Scientist For Healthcare Product team</td>\n",
       "      <td>Delhi / NCR, Chennai, Bangalore/Bengaluru</td>\n",
       "      <td>8KMiles Software Services</td>\n",
       "      <td>2-7 Yrs</td>\n",
       "    </tr>\n",
       "    <tr>\n",
       "      <th>2</th>\n",
       "      <td>Hiring For Data Science Intern- DataTrained Ed...</td>\n",
       "      <td>Delhi / NCR, Gurgaon/Gurugram, Bangalore/Benga...</td>\n",
       "      <td>DataTrained</td>\n",
       "      <td>0-2 Yrs</td>\n",
       "    </tr>\n",
       "    <tr>\n",
       "      <th>3</th>\n",
       "      <td>Knowledge/Data Scientist</td>\n",
       "      <td>Delhi / NCR</td>\n",
       "      <td>BOLD Technology Systems</td>\n",
       "      <td>3-6 Yrs</td>\n",
       "    </tr>\n",
       "    <tr>\n",
       "      <th>4</th>\n",
       "      <td>Data Scientist</td>\n",
       "      <td>Delhi / NCR, Pune, Bangalore/Bengaluru</td>\n",
       "      <td>Mount Talent Consulting Private Limited</td>\n",
       "      <td>2-4 Yrs</td>\n",
       "    </tr>\n",
       "    <tr>\n",
       "      <th>5</th>\n",
       "      <td>Data Scientist</td>\n",
       "      <td>Delhi / NCR, Pune, Bangalore/Bengaluru</td>\n",
       "      <td>Mount Talent Consulting Private Limited</td>\n",
       "      <td>2-4 Yrs</td>\n",
       "    </tr>\n",
       "    <tr>\n",
       "      <th>6</th>\n",
       "      <td>Data Science</td>\n",
       "      <td>Delhi / NCR, Noida, Faridabad, Gurgaon/Gurugra...</td>\n",
       "      <td>Mount Talent Consulting Private Limited</td>\n",
       "      <td>2-5 Yrs</td>\n",
       "    </tr>\n",
       "    <tr>\n",
       "      <th>7</th>\n",
       "      <td>Data Science</td>\n",
       "      <td>Delhi / NCR, Noida, Faridabad, Gurgaon/Gurugra...</td>\n",
       "      <td>Mount Talent Consulting Private Limited</td>\n",
       "      <td>2-5 Yrs</td>\n",
       "    </tr>\n",
       "    <tr>\n",
       "      <th>8</th>\n",
       "      <td>Data Scientist</td>\n",
       "      <td>Gurgaon/Gurugram</td>\n",
       "      <td>PRASU SOFTWARE SOLUTIONS PRIVATE LIMITED</td>\n",
       "      <td>2-4 Yrs</td>\n",
       "    </tr>\n",
       "  </tbody>\n",
       "</table>\n",
       "</div>"
      ],
      "text/plain": [
       "                                               Title  \\\n",
       "0         Data Scientist For Healthcare Product team   \n",
       "1         Data Scientist For Healthcare Product team   \n",
       "2  Hiring For Data Science Intern- DataTrained Ed...   \n",
       "3                           Knowledge/Data Scientist   \n",
       "4                                     Data Scientist   \n",
       "5                                     Data Scientist   \n",
       "6                                       Data Science   \n",
       "7                                       Data Science   \n",
       "8                                     Data Scientist   \n",
       "\n",
       "                                            Location  \\\n",
       "0          Delhi / NCR, Chennai, Bangalore/Bengaluru   \n",
       "1          Delhi / NCR, Chennai, Bangalore/Bengaluru   \n",
       "2  Delhi / NCR, Gurgaon/Gurugram, Bangalore/Benga...   \n",
       "3                                        Delhi / NCR   \n",
       "4             Delhi / NCR, Pune, Bangalore/Bengaluru   \n",
       "5             Delhi / NCR, Pune, Bangalore/Bengaluru   \n",
       "6  Delhi / NCR, Noida, Faridabad, Gurgaon/Gurugra...   \n",
       "7  Delhi / NCR, Noida, Faridabad, Gurgaon/Gurugra...   \n",
       "8                                   Gurgaon/Gurugram   \n",
       "\n",
       "                                    Company Experience_required  \n",
       "0                 8KMiles Software Services             2-7 Yrs  \n",
       "1                 8KMiles Software Services             2-7 Yrs  \n",
       "2                               DataTrained             0-2 Yrs  \n",
       "3                   BOLD Technology Systems             3-6 Yrs  \n",
       "4   Mount Talent Consulting Private Limited             2-4 Yrs  \n",
       "5   Mount Talent Consulting Private Limited             2-4 Yrs  \n",
       "6   Mount Talent Consulting Private Limited             2-5 Yrs  \n",
       "7   Mount Talent Consulting Private Limited             2-5 Yrs  \n",
       "8  PRASU SOFTWARE SOLUTIONS PRIVATE LIMITED             2-4 Yrs  "
      ]
     },
     "execution_count": 104,
     "metadata": {},
     "output_type": "execute_result"
    }
   ],
   "source": [
    "job"
   ]
  },
  {
   "cell_type": "code",
   "execution_count": 105,
   "id": "0f3f6fe0",
   "metadata": {},
   "outputs": [],
   "source": [
    "driver.close()"
   ]
  },
  {
   "cell_type": "markdown",
   "id": "ee3ee9fc",
   "metadata": {},
   "source": [
    "# Q.4 Scrape data of first 100 sunglasses listings on flipkart.com. You have to scrape four attributes: 1.  Brand, 2.  Product Description, 3.  Price"
   ]
  },
  {
   "cell_type": "code",
   "execution_count": 106,
   "id": "c3bcedb5",
   "metadata": {},
   "outputs": [],
   "source": [
    "#lets connect with driver first\n",
    "driver = webdriver.Chrome(r'C:\\Users\\Arun\\Downloads\\chromedriver_win32 (1)/chromedriver.exe')"
   ]
  },
  {
   "cell_type": "code",
   "execution_count": 107,
   "id": "1fabd313",
   "metadata": {},
   "outputs": [],
   "source": [
    "url = 'https://www.flipkart.com/'\n",
    "driver.get(url)"
   ]
  },
  {
   "cell_type": "code",
   "execution_count": 108,
   "id": "39b02c89",
   "metadata": {},
   "outputs": [
    {
     "data": {
      "text/plain": [
       "<selenium.webdriver.remote.webelement.WebElement (session=\"be021d09100d5ab8150ef906cf3c0365\", element=\"b4a0c636-7607-45a2-9ded-e893cf23a0d9\")>"
      ]
     },
     "execution_count": 108,
     "metadata": {},
     "output_type": "execute_result"
    }
   ],
   "source": [
    "search_product = driver.find_element(By.XPATH,'/html/body/div[1]/div/div[1]/div[1]/div[2]/div[2]/form/div/div/input')\n",
    "search_product"
   ]
  },
  {
   "cell_type": "code",
   "execution_count": 111,
   "id": "712c519c",
   "metadata": {},
   "outputs": [],
   "source": [
    "search_product.send_keys('Sunglasses')"
   ]
  },
  {
   "cell_type": "code",
   "execution_count": 114,
   "id": "6f462fcf",
   "metadata": {},
   "outputs": [
    {
     "data": {
      "text/plain": [
       "<selenium.webdriver.remote.webelement.WebElement (session=\"be021d09100d5ab8150ef906cf3c0365\", element=\"e61376c1-4adb-4c66-960e-5412ab62851b\")>"
      ]
     },
     "execution_count": 114,
     "metadata": {},
     "output_type": "execute_result"
    }
   ],
   "source": [
    "search_btn = driver.find_element(By.XPATH,\"//button[@class='L0Z3Pu']\")\n",
    "search_btn"
   ]
  },
  {
   "cell_type": "code",
   "execution_count": 115,
   "id": "71e555e3",
   "metadata": {},
   "outputs": [],
   "source": [
    "search_btn.click()"
   ]
  },
  {
   "cell_type": "code",
   "execution_count": 120,
   "id": "438aa233",
   "metadata": {},
   "outputs": [],
   "source": [
    "Brand_name = []\n",
    "Price = []\n",
    "Product_desc = []\n"
   ]
  },
  {
   "cell_type": "code",
   "execution_count": 121,
   "id": "31fa59fe",
   "metadata": {},
   "outputs": [],
   "source": [
    "for i in range(3):\n",
    "    brand_name = driver.find_elements(By.XPATH,\"//div[@class='_2WkVRV']\")\n",
    "    product_desc = driver.find_elements(By.XPATH,\"//a[@class='IRpwTa']\")\n",
    "    price = driver.find_elements(By.XPATH,\"//div[@class='_25b18c']\")\n",
    "    \n",
    "    for j  in brand_name:\n",
    "        Brand_name.append(j.text)\n",
    "    Brand_name    \n",
    "    \n",
    "    \n",
    "    \n",
    "    for k in product_desc:\n",
    "        Product_desc.append(k.text)\n",
    "    Product_desc \n",
    "    \n",
    "    \n",
    "    for l in price:\n",
    "        Price.append(l.text)\n",
    "    Price"
   ]
  },
  {
   "cell_type": "code",
   "execution_count": 123,
   "id": "fe995951",
   "metadata": {},
   "outputs": [
    {
     "data": {
      "text/plain": [
       "(120, 120, 135)"
      ]
     },
     "execution_count": 123,
     "metadata": {},
     "output_type": "execute_result"
    }
   ],
   "source": [
    "len(Brand_name),len(Product_desc),len(Price)"
   ]
  },
  {
   "cell_type": "code",
   "execution_count": 124,
   "id": "997bc4f3",
   "metadata": {},
   "outputs": [],
   "source": [
    "sun_glass = pd.DataFrame({})\n",
    "sun_glass['Brand_name'] = Brand_name[:100]\n",
    "sun_glass['P_price'] = Price[:100]\n",
    "sun_glass['Product_desc'] = Product_desc[:100]"
   ]
  },
  {
   "cell_type": "code",
   "execution_count": 125,
   "id": "3c48a1fb",
   "metadata": {},
   "outputs": [
    {
     "data": {
      "text/html": [
       "<div>\n",
       "<style scoped>\n",
       "    .dataframe tbody tr th:only-of-type {\n",
       "        vertical-align: middle;\n",
       "    }\n",
       "\n",
       "    .dataframe tbody tr th {\n",
       "        vertical-align: top;\n",
       "    }\n",
       "\n",
       "    .dataframe thead th {\n",
       "        text-align: right;\n",
       "    }\n",
       "</style>\n",
       "<table border=\"1\" class=\"dataframe\">\n",
       "  <thead>\n",
       "    <tr style=\"text-align: right;\">\n",
       "      <th></th>\n",
       "      <th>Brand_name</th>\n",
       "      <th>P_price</th>\n",
       "      <th>Product_desc</th>\n",
       "    </tr>\n",
       "  </thead>\n",
       "  <tbody>\n",
       "    <tr>\n",
       "      <th>0</th>\n",
       "      <td>PIRASO</td>\n",
       "      <td>₹439₹2,59983% off</td>\n",
       "      <td>UV Protection Over-sized Sunglasses (60)</td>\n",
       "    </tr>\n",
       "    <tr>\n",
       "      <th>1</th>\n",
       "      <td>Silver Kartz</td>\n",
       "      <td>₹313₹1,49979% off</td>\n",
       "      <td>UV Protection Clubmaster Sunglasses (53)</td>\n",
       "    </tr>\n",
       "    <tr>\n",
       "      <th>2</th>\n",
       "      <td>Fastrack</td>\n",
       "      <td>₹639₹79920% off</td>\n",
       "      <td>UV Protection Rectangular Sunglasses (Free Size)</td>\n",
       "    </tr>\n",
       "    <tr>\n",
       "      <th>3</th>\n",
       "      <td>Elligator</td>\n",
       "      <td>₹315₹2,49587% off</td>\n",
       "      <td>UV Protection Round Sunglasses (54)</td>\n",
       "    </tr>\n",
       "    <tr>\n",
       "      <th>4</th>\n",
       "      <td>DAHAAZIL</td>\n",
       "      <td>₹177₹99982% off</td>\n",
       "      <td>UV Protection, Night Vision, Riding Glasses Wa...</td>\n",
       "    </tr>\n",
       "    <tr>\n",
       "      <th>...</th>\n",
       "      <td>...</td>\n",
       "      <td>...</td>\n",
       "      <td>...</td>\n",
       "    </tr>\n",
       "    <tr>\n",
       "      <th>95</th>\n",
       "      <td>ROZZETTA CRAFT</td>\n",
       "      <td>₹264₹2,59989% off</td>\n",
       "      <td>UV Protection Spectacle Sunglasses (Free Size)</td>\n",
       "    </tr>\n",
       "    <tr>\n",
       "      <th>96</th>\n",
       "      <td>Fastrack</td>\n",
       "      <td>₹799₹99920% off</td>\n",
       "      <td>UV Protection Aviator Sunglasses (Free Size)</td>\n",
       "    </tr>\n",
       "    <tr>\n",
       "      <th>97</th>\n",
       "      <td>SRPM</td>\n",
       "      <td>₹379₹1,99981% off</td>\n",
       "      <td>UV Protection Wayfarer Sunglasses (50)</td>\n",
       "    </tr>\n",
       "    <tr>\n",
       "      <th>98</th>\n",
       "      <td>Fastrack</td>\n",
       "      <td>₹195₹1,69988% off</td>\n",
       "      <td>UV Protection Aviator Sunglasses (58)</td>\n",
       "    </tr>\n",
       "    <tr>\n",
       "      <th>99</th>\n",
       "      <td>povty</td>\n",
       "      <td>₹224₹1,59985% off</td>\n",
       "      <td>UV Protection Retro Square Sunglasses (Free Size)</td>\n",
       "    </tr>\n",
       "  </tbody>\n",
       "</table>\n",
       "<p>100 rows × 3 columns</p>\n",
       "</div>"
      ],
      "text/plain": [
       "        Brand_name            P_price  \\\n",
       "0           PIRASO  ₹439₹2,59983% off   \n",
       "1     Silver Kartz  ₹313₹1,49979% off   \n",
       "2         Fastrack    ₹639₹79920% off   \n",
       "3        Elligator  ₹315₹2,49587% off   \n",
       "4         DAHAAZIL    ₹177₹99982% off   \n",
       "..             ...                ...   \n",
       "95  ROZZETTA CRAFT  ₹264₹2,59989% off   \n",
       "96        Fastrack    ₹799₹99920% off   \n",
       "97            SRPM  ₹379₹1,99981% off   \n",
       "98        Fastrack  ₹195₹1,69988% off   \n",
       "99           povty  ₹224₹1,59985% off   \n",
       "\n",
       "                                         Product_desc  \n",
       "0            UV Protection Over-sized Sunglasses (60)  \n",
       "1            UV Protection Clubmaster Sunglasses (53)  \n",
       "2    UV Protection Rectangular Sunglasses (Free Size)  \n",
       "3                 UV Protection Round Sunglasses (54)  \n",
       "4   UV Protection, Night Vision, Riding Glasses Wa...  \n",
       "..                                                ...  \n",
       "95     UV Protection Spectacle Sunglasses (Free Size)  \n",
       "96       UV Protection Aviator Sunglasses (Free Size)  \n",
       "97             UV Protection Wayfarer Sunglasses (50)  \n",
       "98              UV Protection Aviator Sunglasses (58)  \n",
       "99  UV Protection Retro Square Sunglasses (Free Size)  \n",
       "\n",
       "[100 rows x 3 columns]"
      ]
     },
     "execution_count": 125,
     "metadata": {},
     "output_type": "execute_result"
    }
   ],
   "source": [
    "sun_glass"
   ]
  },
  {
   "cell_type": "code",
   "execution_count": 126,
   "id": "ca518e19",
   "metadata": {},
   "outputs": [],
   "source": [
    "driver.close()"
   ]
  },
  {
   "cell_type": "markdown",
   "id": "a2c6d663",
   "metadata": {},
   "source": [
    "# Q5: Scrape 100 reviews data from flipkart.com for iphone11 phone."
   ]
  },
  {
   "cell_type": "code",
   "execution_count": 127,
   "id": "8e711cc3",
   "metadata": {},
   "outputs": [],
   "source": [
    "#lets connect with driver first\n",
    "driver = webdriver.Chrome(r'C:\\Users\\Arun\\Downloads\\chromedriver_win32 (1)/chromedriver.exe')"
   ]
  },
  {
   "cell_type": "code",
   "execution_count": 128,
   "id": "a012183b",
   "metadata": {},
   "outputs": [],
   "source": [
    "url = 'https://www.flipkart.com/'\n",
    "driver.get(url)"
   ]
  },
  {
   "cell_type": "code",
   "execution_count": 129,
   "id": "5e284e2b",
   "metadata": {},
   "outputs": [
    {
     "data": {
      "text/plain": [
       "<selenium.webdriver.remote.webelement.WebElement (session=\"d65682fe3f2afb43b33803a42f824870\", element=\"2d75314d-de65-411b-b9e5-b46bdd308f2d\")>"
      ]
     },
     "execution_count": 129,
     "metadata": {},
     "output_type": "execute_result"
    }
   ],
   "source": [
    "search_product = driver.find_element(By.XPATH,'/html/body/div[1]/div/div[1]/div[1]/div[2]/div[2]/form/div/div/input')\n",
    "search_product"
   ]
  },
  {
   "cell_type": "code",
   "execution_count": 130,
   "id": "cf16727b",
   "metadata": {},
   "outputs": [],
   "source": [
    "search_product.send_keys('Iphone 11')"
   ]
  },
  {
   "cell_type": "code",
   "execution_count": 131,
   "id": "86c282c3",
   "metadata": {},
   "outputs": [
    {
     "data": {
      "text/plain": [
       "<selenium.webdriver.remote.webelement.WebElement (session=\"d65682fe3f2afb43b33803a42f824870\", element=\"77887ea0-7292-4683-b52b-f1e4772f71ca\")>"
      ]
     },
     "execution_count": 131,
     "metadata": {},
     "output_type": "execute_result"
    }
   ],
   "source": [
    "search_btn = driver.find_element(By.XPATH,\"//button[@class='L0Z3Pu']\")\n",
    "search_btn"
   ]
  },
  {
   "cell_type": "code",
   "execution_count": 132,
   "id": "4c126162",
   "metadata": {},
   "outputs": [],
   "source": [
    "search_btn.click()"
   ]
  },
  {
   "cell_type": "code",
   "execution_count": null,
   "id": "30566e88",
   "metadata": {},
   "outputs": [],
   "source": []
  },
  {
   "cell_type": "code",
   "execution_count": null,
   "id": "d006a024",
   "metadata": {},
   "outputs": [],
   "source": []
  },
  {
   "cell_type": "code",
   "execution_count": 133,
   "id": "ca2b0d49",
   "metadata": {},
   "outputs": [],
   "source": [
    "driver.close()"
   ]
  },
  {
   "cell_type": "markdown",
   "id": "57d3e8c1",
   "metadata": {},
   "source": [
    "# Q6. Scrape data for first 100 sneakers you find when you visit flipkart.com and search for “sneakers” in the search field."
   ]
  },
  {
   "cell_type": "code",
   "execution_count": 134,
   "id": "c0687c8f",
   "metadata": {},
   "outputs": [],
   "source": [
    "#connecting with driver.\n",
    "driver = webdriver.Chrome(r'C:\\Users\\Arun\\Downloads\\chromedriver_win32 (1)/chromedriver.exe')"
   ]
  },
  {
   "cell_type": "code",
   "execution_count": 136,
   "id": "f82521a1",
   "metadata": {},
   "outputs": [],
   "source": [
    "url = 'https://www.flipkart.com/'\n",
    "driver.get(url)"
   ]
  },
  {
   "cell_type": "code",
   "execution_count": 137,
   "id": "5236d7b8",
   "metadata": {},
   "outputs": [
    {
     "data": {
      "text/plain": [
       "<selenium.webdriver.remote.webelement.WebElement (session=\"31f74580ba559ee00fc3eb2e0efeea8b\", element=\"6af505b9-01d0-465e-b641-fa1ac873a624\")>"
      ]
     },
     "execution_count": 137,
     "metadata": {},
     "output_type": "execute_result"
    }
   ],
   "source": [
    "search_product = driver.find_element(By.XPATH,'/html/body/div[1]/div/div[1]/div[1]/div[2]/div[2]/form/div/div/input')\n",
    "search_product"
   ]
  },
  {
   "cell_type": "code",
   "execution_count": 138,
   "id": "07d2a5ce",
   "metadata": {},
   "outputs": [],
   "source": [
    "search_product.send_keys('sneaker')"
   ]
  },
  {
   "cell_type": "code",
   "execution_count": 139,
   "id": "d56fb25b",
   "metadata": {},
   "outputs": [
    {
     "data": {
      "text/plain": [
       "<selenium.webdriver.remote.webelement.WebElement (session=\"31f74580ba559ee00fc3eb2e0efeea8b\", element=\"1409543b-0b5e-4aee-8e29-c05d48838d27\")>"
      ]
     },
     "execution_count": 139,
     "metadata": {},
     "output_type": "execute_result"
    }
   ],
   "source": [
    "search_btn = driver.find_element(By.XPATH,\"//button[@class='L0Z3Pu']\")\n",
    "search_btn"
   ]
  },
  {
   "cell_type": "code",
   "execution_count": 140,
   "id": "ffc85bf7",
   "metadata": {},
   "outputs": [],
   "source": [
    "search_btn.click()"
   ]
  },
  {
   "cell_type": "code",
   "execution_count": 141,
   "id": "5aca0e36",
   "metadata": {},
   "outputs": [],
   "source": [
    "Brand = []\n",
    "Price_s = []\n",
    "Product = []\n",
    "Discount = []"
   ]
  },
  {
   "cell_type": "code",
   "execution_count": 145,
   "id": "3d3b9b3e",
   "metadata": {},
   "outputs": [],
   "source": [
    "for i in range(3):\n",
    "    b_name = driver.find_elements(By.XPATH,\"//div[@class='_2WkVRV']\")\n",
    "    p_desc = driver.find_elements(By.XPATH,\"//a[@class='IRpwTa']\")\n",
    "    price_s = driver.find_elements(By.XPATH,\"//div[@class='_30jeq3']\")\n",
    "    discount = driver.find_elements(By.XPATH,\"//div[@class='_3Ay6Sb']\")\n",
    "    \n",
    "    for j  in b_name:\n",
    "        Brand.append(j.text)\n",
    "    len(Brand)\n",
    "    \n",
    "    \n",
    "    \n",
    "    for k in p_desc:\n",
    "        Product.append(k.text)\n",
    "    len(Product) \n",
    "    \n",
    "    \n",
    "    for l in price_s:\n",
    "        Price_s.append(l.text)\n",
    "    len(Price_s) \n",
    "    \n",
    "    \n",
    "    for t in discount:\n",
    "        Discount.append(t.text)\n",
    "    len(Discount)"
   ]
  },
  {
   "cell_type": "code",
   "execution_count": 146,
   "id": "d84b56f7",
   "metadata": {},
   "outputs": [
    {
     "data": {
      "text/plain": [
       "(240, 120, 240, 240)"
      ]
     },
     "execution_count": 146,
     "metadata": {},
     "output_type": "execute_result"
    }
   ],
   "source": [
    "len(Brand), len(Product), len(Price_s), len(Discount)"
   ]
  },
  {
   "cell_type": "code",
   "execution_count": 147,
   "id": "aa2c1c75",
   "metadata": {},
   "outputs": [],
   "source": [
    "#creating dataframe\n",
    "sneaker = pd.DataFrame({})\n",
    "sneaker['Brand_name'] = Brand[:100]\n",
    "sneaker['Price'] = Price_s[:100]\n",
    "sneaker['Discribtion'] = Product[:100]\n",
    "sneaker['Discount'] = Discount[:100]"
   ]
  },
  {
   "cell_type": "code",
   "execution_count": 148,
   "id": "df23433d",
   "metadata": {},
   "outputs": [
    {
     "data": {
      "text/html": [
       "<div>\n",
       "<style scoped>\n",
       "    .dataframe tbody tr th:only-of-type {\n",
       "        vertical-align: middle;\n",
       "    }\n",
       "\n",
       "    .dataframe tbody tr th {\n",
       "        vertical-align: top;\n",
       "    }\n",
       "\n",
       "    .dataframe thead th {\n",
       "        text-align: right;\n",
       "    }\n",
       "</style>\n",
       "<table border=\"1\" class=\"dataframe\">\n",
       "  <thead>\n",
       "    <tr style=\"text-align: right;\">\n",
       "      <th></th>\n",
       "      <th>Brand_name</th>\n",
       "      <th>Price</th>\n",
       "      <th>Discribtion</th>\n",
       "      <th>Discount</th>\n",
       "    </tr>\n",
       "  </thead>\n",
       "  <tbody>\n",
       "    <tr>\n",
       "      <th>0</th>\n",
       "      <td>luxury fashion</td>\n",
       "      <td>₹499</td>\n",
       "      <td>Trendy Stylish Comfortable &amp; Lightweight, Casu...</td>\n",
       "      <td>61% off</td>\n",
       "    </tr>\n",
       "    <tr>\n",
       "      <th>1</th>\n",
       "      <td>ZF - ALFIYA</td>\n",
       "      <td>₹449</td>\n",
       "      <td>Sneakers Sneakers For Men</td>\n",
       "      <td>55% off</td>\n",
       "    </tr>\n",
       "    <tr>\n",
       "      <th>2</th>\n",
       "      <td>WOODLAND</td>\n",
       "      <td>₹2,096</td>\n",
       "      <td>Sneakers For Men</td>\n",
       "      <td>30% off</td>\n",
       "    </tr>\n",
       "    <tr>\n",
       "      <th>3</th>\n",
       "      <td>BRUTON</td>\n",
       "      <td>₹284</td>\n",
       "      <td>Sneakers For Men</td>\n",
       "      <td>78% off</td>\n",
       "    </tr>\n",
       "    <tr>\n",
       "      <th>4</th>\n",
       "      <td>Magnolia</td>\n",
       "      <td>₹449</td>\n",
       "      <td>Exclusive Affordable Collection of Trendy &amp; St...</td>\n",
       "      <td>55% off</td>\n",
       "    </tr>\n",
       "    <tr>\n",
       "      <th>...</th>\n",
       "      <td>...</td>\n",
       "      <td>...</td>\n",
       "      <td>...</td>\n",
       "      <td>...</td>\n",
       "    </tr>\n",
       "    <tr>\n",
       "      <th>95</th>\n",
       "      <td>luxury fashion</td>\n",
       "      <td>₹499</td>\n",
       "      <td>Combo Pack Of 4 Casual Shoes Loafer Shoes Snea...</td>\n",
       "      <td>61% off</td>\n",
       "    </tr>\n",
       "    <tr>\n",
       "      <th>96</th>\n",
       "      <td>SFR</td>\n",
       "      <td>₹289</td>\n",
       "      <td>Stylish Comfortable Lightweight, Breathable Wa...</td>\n",
       "      <td>71% off</td>\n",
       "    </tr>\n",
       "    <tr>\n",
       "      <th>97</th>\n",
       "      <td>PUMA</td>\n",
       "      <td>₹1,763</td>\n",
       "      <td>Stylish Comfortable Lightweight, Breathable Wa...</td>\n",
       "      <td>49% off</td>\n",
       "    </tr>\n",
       "    <tr>\n",
       "      <th>98</th>\n",
       "      <td>Chevit</td>\n",
       "      <td>₹649</td>\n",
       "      <td>STR2 Sneakers For Men</td>\n",
       "      <td>65% off</td>\n",
       "    </tr>\n",
       "    <tr>\n",
       "      <th>99</th>\n",
       "      <td>BIRDE</td>\n",
       "      <td>₹378</td>\n",
       "      <td>Luxuryfashion casual sneaker shoes Sneakers Fo...</td>\n",
       "      <td>62% off</td>\n",
       "    </tr>\n",
       "  </tbody>\n",
       "</table>\n",
       "<p>100 rows × 4 columns</p>\n",
       "</div>"
      ],
      "text/plain": [
       "        Brand_name   Price                                        Discribtion  \\\n",
       "0   luxury fashion    ₹499  Trendy Stylish Comfortable & Lightweight, Casu...   \n",
       "1      ZF - ALFIYA    ₹449                          Sneakers Sneakers For Men   \n",
       "2         WOODLAND  ₹2,096                                   Sneakers For Men   \n",
       "3           BRUTON    ₹284                                   Sneakers For Men   \n",
       "4         Magnolia    ₹449  Exclusive Affordable Collection of Trendy & St...   \n",
       "..             ...     ...                                                ...   \n",
       "95  luxury fashion    ₹499  Combo Pack Of 4 Casual Shoes Loafer Shoes Snea...   \n",
       "96             SFR    ₹289  Stylish Comfortable Lightweight, Breathable Wa...   \n",
       "97            PUMA  ₹1,763  Stylish Comfortable Lightweight, Breathable Wa...   \n",
       "98          Chevit    ₹649                              STR2 Sneakers For Men   \n",
       "99           BIRDE    ₹378  Luxuryfashion casual sneaker shoes Sneakers Fo...   \n",
       "\n",
       "   Discount  \n",
       "0   61% off  \n",
       "1   55% off  \n",
       "2   30% off  \n",
       "3   78% off  \n",
       "4   55% off  \n",
       "..      ...  \n",
       "95  61% off  \n",
       "96  71% off  \n",
       "97  49% off  \n",
       "98  65% off  \n",
       "99  62% off  \n",
       "\n",
       "[100 rows x 4 columns]"
      ]
     },
     "execution_count": 148,
     "metadata": {},
     "output_type": "execute_result"
    }
   ],
   "source": [
    "sneaker"
   ]
  },
  {
   "cell_type": "code",
   "execution_count": 150,
   "id": "06c7301e",
   "metadata": {},
   "outputs": [],
   "source": [
    "driver.close()"
   ]
  },
  {
   "cell_type": "markdown",
   "id": "5bc383f3",
   "metadata": {},
   "source": [
    "#  Q.7 Go to the link - https://www.myntra.com/shoes Set second Price filter and  Color filter to “Black”."
   ]
  },
  {
   "cell_type": "code",
   "execution_count": 151,
   "id": "3c8f91a6",
   "metadata": {},
   "outputs": [],
   "source": [
    "#connecting with driver.\n",
    "driver = webdriver.Chrome(r'C:\\Users\\Arun\\Downloads\\chromedriver_win32 (1)/chromedriver.exe')"
   ]
  },
  {
   "cell_type": "code",
   "execution_count": 152,
   "id": "54837092",
   "metadata": {},
   "outputs": [],
   "source": [
    "url = 'https://www.myntra.com/shoes'\n",
    "driver.get(url)"
   ]
  },
  {
   "cell_type": "code",
   "execution_count": 156,
   "id": "b48a21e1",
   "metadata": {},
   "outputs": [],
   "source": [
    "#inspect option is not showing not able to copy Xpath and class\n"
   ]
  },
  {
   "cell_type": "code",
   "execution_count": 157,
   "id": "fd740ae0",
   "metadata": {},
   "outputs": [],
   "source": []
  },
  {
   "cell_type": "code",
   "execution_count": 158,
   "id": "4becdd77",
   "metadata": {},
   "outputs": [],
   "source": []
  },
  {
   "cell_type": "code",
   "execution_count": 159,
   "id": "e54fa04e",
   "metadata": {},
   "outputs": [],
   "source": []
  },
  {
   "cell_type": "code",
   "execution_count": null,
   "id": "59feb880",
   "metadata": {},
   "outputs": [],
   "source": []
  },
  {
   "cell_type": "code",
   "execution_count": null,
   "id": "394425ef",
   "metadata": {},
   "outputs": [],
   "source": []
  },
  {
   "cell_type": "code",
   "execution_count": 161,
   "id": "9e6099ed",
   "metadata": {},
   "outputs": [],
   "source": []
  },
  {
   "cell_type": "markdown",
   "id": "1956eba6",
   "metadata": {},
   "source": [
    "# Q.8. Go to webpage https://www.amazon.in/ Enter “Laptop” in the search field and then click the search "
   ]
  },
  {
   "cell_type": "code",
   "execution_count": 162,
   "id": "ed060a0e",
   "metadata": {},
   "outputs": [],
   "source": [
    "#connecting with driver.\n",
    "driver = webdriver.Chrome(r'C:\\Users\\Arun\\Downloads\\chromedriver_win32 (1)/chromedriver.exe')"
   ]
  },
  {
   "cell_type": "code",
   "execution_count": 172,
   "id": "ed1d830c",
   "metadata": {},
   "outputs": [],
   "source": [
    "url = 'https://www.amazon.in/'\n",
    "driver.get(url)"
   ]
  },
  {
   "cell_type": "code",
   "execution_count": 173,
   "id": "825d3545",
   "metadata": {},
   "outputs": [
    {
     "data": {
      "text/plain": [
       "<selenium.webdriver.remote.webelement.WebElement (session=\"fc27bee600b86f855ff9999736a17151\", element=\"d7c03bf2-f19e-4347-a1fd-9534d6cfc98c\")>"
      ]
     },
     "execution_count": 173,
     "metadata": {},
     "output_type": "execute_result"
    }
   ],
   "source": [
    "search_laptop = driver.find_element(By.XPATH,'/html/body/div[1]/header/div/div[1]/div[2]/div/form/div[2]/div[1]/input')\n",
    "search_laptop"
   ]
  },
  {
   "cell_type": "code",
   "execution_count": 174,
   "id": "c7e11b7e",
   "metadata": {},
   "outputs": [],
   "source": [
    "search_laptop.send_keys('Laptop')"
   ]
  },
  {
   "cell_type": "code",
   "execution_count": 175,
   "id": "295e26ef",
   "metadata": {},
   "outputs": [
    {
     "data": {
      "text/plain": [
       "<selenium.webdriver.remote.webelement.WebElement (session=\"fc27bee600b86f855ff9999736a17151\", element=\"df58fbe8-cd9c-4b14-9625-d0d73918eb21\")>"
      ]
     },
     "execution_count": 175,
     "metadata": {},
     "output_type": "execute_result"
    }
   ],
   "source": [
    "search_btn = driver.find_element(By.XPATH,\"//div[@class='nav-search-submit nav-sprite']\")\n",
    "search_btn"
   ]
  },
  {
   "cell_type": "code",
   "execution_count": 176,
   "id": "484f4c8b",
   "metadata": {},
   "outputs": [],
   "source": [
    "search_btn.click()"
   ]
  },
  {
   "cell_type": "code",
   "execution_count": 182,
   "id": "9af58991",
   "metadata": {},
   "outputs": [
    {
     "data": {
      "text/plain": [
       "<selenium.webdriver.remote.webelement.WebElement (session=\"fc27bee600b86f855ff9999736a17151\", element=\"1d5db30a-0143-49e3-9072-db83ec76fd0b\")>"
      ]
     },
     "execution_count": 182,
     "metadata": {},
     "output_type": "execute_result"
    }
   ],
   "source": [
    "cpu_fllter = driver.find_element(By.XPATH,\"/html/body/div[1]/div[2]/div[1]/div[2]/div/div[3]/span/div[1]/div/div/div[6]/ul[2]/li[12]/span/a/div/label/i\")\n",
    "cpu_fllter"
   ]
  },
  {
   "cell_type": "code",
   "execution_count": 183,
   "id": "eec5978a",
   "metadata": {},
   "outputs": [],
   "source": [
    "cpu_fllter.click()"
   ]
  },
  {
   "cell_type": "code",
   "execution_count": 184,
   "id": "127d3af4",
   "metadata": {},
   "outputs": [],
   "source": [
    "Title = []\n",
    "Price = []\n",
    "Rating = []"
   ]
  },
  {
   "cell_type": "code",
   "execution_count": 188,
   "id": "e05477a5",
   "metadata": {},
   "outputs": [],
   "source": [
    "for i in range(3):\n",
    "    b_name_laptop = driver.find_elements(By.XPATH,\"//span[@class='a-size-medium a-color-base a-text-normal']\")\n",
    "    price_laptop = driver.find_elements(By.XPATH,\"//span[@class='a-price-whole']\")\n",
    "    rating_laptop = driver.find_elements(By.XPATH,\"//div[@class='a-icon-row a-spacing-small a-padding-none']\")\n",
    "    \n",
    "    \n",
    "    for j  in b_name_laptop:\n",
    "        Title.append(j.text)\n",
    "    Title    \n",
    "    \n",
    "    \n",
    "    \n",
    "    for k in price_laptop:\n",
    "        Price.append(k.text)\n",
    "    Price\n",
    "    \n",
    "    \n",
    "    for l in rating_laptop:\n",
    "        Rating.append(l.text)\n",
    "    Rating"
   ]
  },
  {
   "cell_type": "code",
   "execution_count": 189,
   "id": "53007c78",
   "metadata": {},
   "outputs": [
    {
     "data": {
      "text/plain": [
       "(144, 144, 9)"
      ]
     },
     "execution_count": 189,
     "metadata": {},
     "output_type": "execute_result"
    }
   ],
   "source": [
    "len(Title), len(Price), len(Rating)"
   ]
  },
  {
   "cell_type": "code",
   "execution_count": 190,
   "id": "ec5e5771",
   "metadata": {},
   "outputs": [],
   "source": [
    "#creating dataframe\n",
    "Laptop = pd.DataFrame({})\n",
    "Laptop['Title'] = Title[:9]\n",
    "Laptop['Price'] = Price[:9]\n",
    "Laptop['Rating'] = Rating[:9]"
   ]
  },
  {
   "cell_type": "code",
   "execution_count": 191,
   "id": "c1365cd8",
   "metadata": {},
   "outputs": [
    {
     "data": {
      "text/html": [
       "<div>\n",
       "<style scoped>\n",
       "    .dataframe tbody tr th:only-of-type {\n",
       "        vertical-align: middle;\n",
       "    }\n",
       "\n",
       "    .dataframe tbody tr th {\n",
       "        vertical-align: top;\n",
       "    }\n",
       "\n",
       "    .dataframe thead th {\n",
       "        text-align: right;\n",
       "    }\n",
       "</style>\n",
       "<table border=\"1\" class=\"dataframe\">\n",
       "  <thead>\n",
       "    <tr style=\"text-align: right;\">\n",
       "      <th></th>\n",
       "      <th>Title</th>\n",
       "      <th>Price</th>\n",
       "      <th>Rating</th>\n",
       "    </tr>\n",
       "  </thead>\n",
       "  <tbody>\n",
       "    <tr>\n",
       "      <th>0</th>\n",
       "      <td>ASUS TUF Gaming F15 (2021), 15.6\" (39.62 cms) ...</td>\n",
       "      <td>89,990</td>\n",
       "      <td></td>\n",
       "    </tr>\n",
       "    <tr>\n",
       "      <th>1</th>\n",
       "      <td>ASUS Vivobook 15, 15.6-inch (39.62 cms) FHD, I...</td>\n",
       "      <td>57,890</td>\n",
       "      <td></td>\n",
       "    </tr>\n",
       "    <tr>\n",
       "      <th>2</th>\n",
       "      <td>HP Pavilion 14 12th Gen Intel Core i7 16GB SDR...</td>\n",
       "      <td>86,990</td>\n",
       "      <td></td>\n",
       "    </tr>\n",
       "    <tr>\n",
       "      <th>3</th>\n",
       "      <td>Lenovo ThinkBook 15 Intel 11th Gen Core i7 15....</td>\n",
       "      <td>86,990</td>\n",
       "      <td></td>\n",
       "    </tr>\n",
       "    <tr>\n",
       "      <th>4</th>\n",
       "      <td>Infinix INBook X1 Pro Core i7 10th Gen - (16 G...</td>\n",
       "      <td>53,999</td>\n",
       "      <td></td>\n",
       "    </tr>\n",
       "    <tr>\n",
       "      <th>5</th>\n",
       "      <td>Lenovo IdeaPad Slim 5 Pro Intel Core i7 11th G...</td>\n",
       "      <td>75,990</td>\n",
       "      <td></td>\n",
       "    </tr>\n",
       "    <tr>\n",
       "      <th>6</th>\n",
       "      <td>Hp Pavilion 15 12Th Gen Intel Core I7 16Gb Sdr...</td>\n",
       "      <td>87,900</td>\n",
       "      <td></td>\n",
       "    </tr>\n",
       "    <tr>\n",
       "      <th>7</th>\n",
       "      <td>ASUS Zenbook 14 OLED (2022), 14\" (35.56 cms) 2...</td>\n",
       "      <td>1,07,794</td>\n",
       "      <td></td>\n",
       "    </tr>\n",
       "    <tr>\n",
       "      <th>8</th>\n",
       "      <td>Mi Notebook Horizon Edition 14 Intel Core i7-1...</td>\n",
       "      <td>58,950</td>\n",
       "      <td></td>\n",
       "    </tr>\n",
       "  </tbody>\n",
       "</table>\n",
       "</div>"
      ],
      "text/plain": [
       "                                               Title     Price Rating\n",
       "0  ASUS TUF Gaming F15 (2021), 15.6\" (39.62 cms) ...    89,990       \n",
       "1  ASUS Vivobook 15, 15.6-inch (39.62 cms) FHD, I...    57,890       \n",
       "2  HP Pavilion 14 12th Gen Intel Core i7 16GB SDR...    86,990       \n",
       "3  Lenovo ThinkBook 15 Intel 11th Gen Core i7 15....    86,990       \n",
       "4  Infinix INBook X1 Pro Core i7 10th Gen - (16 G...    53,999       \n",
       "5  Lenovo IdeaPad Slim 5 Pro Intel Core i7 11th G...    75,990       \n",
       "6  Hp Pavilion 15 12Th Gen Intel Core I7 16Gb Sdr...    87,900       \n",
       "7  ASUS Zenbook 14 OLED (2022), 14\" (35.56 cms) 2...  1,07,794       \n",
       "8  Mi Notebook Horizon Edition 14 Intel Core i7-1...    58,950       "
      ]
     },
     "execution_count": 191,
     "metadata": {},
     "output_type": "execute_result"
    }
   ],
   "source": [
    "Laptop"
   ]
  },
  {
   "cell_type": "code",
   "execution_count": 192,
   "id": "1de558d7",
   "metadata": {},
   "outputs": [],
   "source": [
    "driver.close()"
   ]
  },
  {
   "cell_type": "markdown",
   "id": "94ccbf7f",
   "metadata": {},
   "source": [
    "# Q.9: Write a python program to scrape data for first 10 job results for Data Scientist Designation in Noida location. You have to scrape company name, No. of days ago when job was posted, Rating of the company."
   ]
  },
  {
   "cell_type": "code",
   "execution_count": 193,
   "id": "985e005a",
   "metadata": {},
   "outputs": [],
   "source": [
    "#connecting with driver.\n",
    "driver = webdriver.Chrome(r'C:\\Users\\Arun\\Downloads\\chromedriver_win32 (1)/chromedriver.exe')"
   ]
  },
  {
   "cell_type": "code",
   "execution_count": 194,
   "id": "e7fc211d",
   "metadata": {},
   "outputs": [],
   "source": [
    "url = 'https://www.ambitionbox.com/'\n",
    "driver.get(url)"
   ]
  },
  {
   "cell_type": "code",
   "execution_count": 195,
   "id": "d974ea5d",
   "metadata": {},
   "outputs": [
    {
     "data": {
      "text/plain": [
       "<selenium.webdriver.remote.webelement.WebElement (session=\"4a1c64297d584371b09b65e4ad5639a2\", element=\"d1896e32-8b56-4307-90f6-8a70602869c3\")>"
      ]
     },
     "execution_count": 195,
     "metadata": {},
     "output_type": "execute_result"
    }
   ],
   "source": [
    "click_job = driver.find_element(By.XPATH,\"/html/body/div[1]/nav/nav/a[6]\")\n",
    "click_job"
   ]
  },
  {
   "cell_type": "code",
   "execution_count": 196,
   "id": "27648591",
   "metadata": {},
   "outputs": [],
   "source": [
    "click_job.click()"
   ]
  },
  {
   "cell_type": "code",
   "execution_count": 197,
   "id": "989c100b",
   "metadata": {},
   "outputs": [
    {
     "data": {
      "text/plain": [
       "<selenium.webdriver.remote.webelement.WebElement (session=\"4a1c64297d584371b09b65e4ad5639a2\", element=\"f11c4f4b-75b8-4205-98e9-61daa2a74d28\")>"
      ]
     },
     "execution_count": 197,
     "metadata": {},
     "output_type": "execute_result"
    }
   ],
   "source": [
    "#Now entering job title\n",
    "search_job = driver.find_element(By.XPATH,\"/html/body/div/div/div/div[2]/div[1]/div[1]/div/div/div/div/span/input\")\n",
    "search_job"
   ]
  },
  {
   "cell_type": "code",
   "execution_count": 199,
   "id": "31fab292",
   "metadata": {},
   "outputs": [],
   "source": [
    "search_job.send_keys('Data Scientist')"
   ]
  },
  {
   "cell_type": "code",
   "execution_count": 209,
   "id": "b07fe6d8",
   "metadata": {},
   "outputs": [
    {
     "data": {
      "text/plain": [
       "<selenium.webdriver.remote.webelement.WebElement (session=\"4a1c64297d584371b09b65e4ad5639a2\", element=\"7d1e3034-6fff-486d-8919-881fecc394bb\")>"
      ]
     },
     "execution_count": 209,
     "metadata": {},
     "output_type": "execute_result"
    }
   ],
   "source": [
    "search_result = driver.find_element(By.XPATH,'/html/body/div/div/div/div[2]/div[1]/div[1]/div/div/div/button')\n",
    "search_result"
   ]
  },
  {
   "cell_type": "code",
   "execution_count": 210,
   "id": "c7699927",
   "metadata": {},
   "outputs": [],
   "source": [
    "search_result.click()"
   ]
  },
  {
   "cell_type": "code",
   "execution_count": 213,
   "id": "647caa91",
   "metadata": {},
   "outputs": [
    {
     "data": {
      "text/plain": [
       "<selenium.webdriver.remote.webelement.WebElement (session=\"4a1c64297d584371b09b65e4ad5639a2\", element=\"3e019011-b8ad-42fb-8a3d-8ae122d1b1b7\")>"
      ]
     },
     "execution_count": 213,
     "metadata": {},
     "output_type": "execute_result"
    }
   ],
   "source": [
    "#for selecting location\n",
    "location_select = driver.find_element(By.XPATH,'/html/body/div/div/div/div[2]/div[1]/div[2]/div[1]/div/div/div/div[2]/div[1]/i')\n",
    "location_select"
   ]
  },
  {
   "cell_type": "code",
   "execution_count": 214,
   "id": "fd5807c7",
   "metadata": {},
   "outputs": [],
   "source": [
    "location_select.click()"
   ]
  },
  {
   "cell_type": "code",
   "execution_count": 215,
   "id": "56fc8049",
   "metadata": {},
   "outputs": [
    {
     "data": {
      "text/plain": [
       "<selenium.webdriver.remote.webelement.WebElement (session=\"4a1c64297d584371b09b65e4ad5639a2\", element=\"62e46731-d9bd-47fa-9fcf-bd9a26ee986f\")>"
      ]
     },
     "execution_count": 215,
     "metadata": {},
     "output_type": "execute_result"
    }
   ],
   "source": [
    "search_location = driver.find_element(By.XPATH,'/html/body/div/div/div/div[2]/div[1]/div[2]/div[1]/div/div/div/div[2]/div[2]/div/div[2]/input')\n",
    "search_location"
   ]
  },
  {
   "cell_type": "code",
   "execution_count": 217,
   "id": "00502f9e",
   "metadata": {},
   "outputs": [],
   "source": [
    "search_location.send_keys('Noida')"
   ]
  },
  {
   "cell_type": "code",
   "execution_count": 221,
   "id": "68a4901d",
   "metadata": {},
   "outputs": [
    {
     "data": {
      "text/plain": [
       "<selenium.webdriver.remote.webelement.WebElement (session=\"4a1c64297d584371b09b65e4ad5639a2\", element=\"0a9da89f-e656-4ed1-b9a4-9931f881b803\")>"
      ]
     },
     "execution_count": 221,
     "metadata": {},
     "output_type": "execute_result"
    }
   ],
   "source": [
    "enter_location = driver.find_element(By.XPATH,'/html/body/div/div/div/div[2]/div[1]/div[2]/div[1]/div/div/div/div[2]/div[2]/div/div[3]/div[1]/div[1]/div/label')\n",
    "enter_location"
   ]
  },
  {
   "cell_type": "code",
   "execution_count": 222,
   "id": "579f2358",
   "metadata": {},
   "outputs": [],
   "source": [
    "enter_location.click()"
   ]
  },
  {
   "cell_type": "code",
   "execution_count": 225,
   "id": "d55ce155",
   "metadata": {},
   "outputs": [
    {
     "data": {
      "text/plain": [
       "[<selenium.webdriver.remote.webelement.WebElement (session=\"4a1c64297d584371b09b65e4ad5639a2\", element=\"c8fd13b0-b0b1-4705-a7f9-01f95d606dcc\")>,\n",
       " <selenium.webdriver.remote.webelement.WebElement (session=\"4a1c64297d584371b09b65e4ad5639a2\", element=\"0cc5ce7a-d11c-4a3d-aec1-dab0b068bb97\")>,\n",
       " <selenium.webdriver.remote.webelement.WebElement (session=\"4a1c64297d584371b09b65e4ad5639a2\", element=\"2c3feba1-2915-4e32-8e1a-cc6e22af5f1e\")>,\n",
       " <selenium.webdriver.remote.webelement.WebElement (session=\"4a1c64297d584371b09b65e4ad5639a2\", element=\"89f50723-b4cc-4ae2-999f-f22eaae5f772\")>,\n",
       " <selenium.webdriver.remote.webelement.WebElement (session=\"4a1c64297d584371b09b65e4ad5639a2\", element=\"267cccba-f7fb-4f9e-8cba-382bc19f9203\")>,\n",
       " <selenium.webdriver.remote.webelement.WebElement (session=\"4a1c64297d584371b09b65e4ad5639a2\", element=\"af5f70c5-ea57-45e9-ab58-29ebade75473\")>,\n",
       " <selenium.webdriver.remote.webelement.WebElement (session=\"4a1c64297d584371b09b65e4ad5639a2\", element=\"3d185a5d-37ef-4743-a0b0-cce5df1e8edc\")>,\n",
       " <selenium.webdriver.remote.webelement.WebElement (session=\"4a1c64297d584371b09b65e4ad5639a2\", element=\"88290a12-39f0-4c7f-ae18-4c00f8eefc2c\")>,\n",
       " <selenium.webdriver.remote.webelement.WebElement (session=\"4a1c64297d584371b09b65e4ad5639a2\", element=\"98d70c93-eeb0-4c0a-97c7-fbd7b88ebcaf\")>,\n",
       " <selenium.webdriver.remote.webelement.WebElement (session=\"4a1c64297d584371b09b65e4ad5639a2\", element=\"0d245c46-9de8-4723-94c8-d52e337c07df\")>]"
      ]
     },
     "execution_count": 225,
     "metadata": {},
     "output_type": "execute_result"
    }
   ],
   "source": [
    "#for scraping job title\n",
    "job_title = driver.find_elements(By.XPATH,\"//a[@class='title noclick']\")\n",
    "job_title"
   ]
  },
  {
   "cell_type": "code",
   "execution_count": 226,
   "id": "30ac72e3",
   "metadata": {},
   "outputs": [
    {
     "data": {
      "text/plain": [
       "10"
      ]
     },
     "execution_count": 226,
     "metadata": {},
     "output_type": "execute_result"
    }
   ],
   "source": [
    "Job_title = []\n",
    "\n",
    "for i in job_title:\n",
    "    Job_title.append(i.text)\n",
    "    \n",
    "len(Job_title)    "
   ]
  },
  {
   "cell_type": "code",
   "execution_count": 227,
   "id": "2d9632c6",
   "metadata": {},
   "outputs": [
    {
     "data": {
      "text/plain": [
       "[<selenium.webdriver.remote.webelement.WebElement (session=\"4a1c64297d584371b09b65e4ad5639a2\", element=\"eaa80acf-7d0f-46bb-b54a-dd0ee8027677\")>,\n",
       " <selenium.webdriver.remote.webelement.WebElement (session=\"4a1c64297d584371b09b65e4ad5639a2\", element=\"e761cf7e-d8ed-4c19-95ff-87fb825d9c09\")>,\n",
       " <selenium.webdriver.remote.webelement.WebElement (session=\"4a1c64297d584371b09b65e4ad5639a2\", element=\"462ebb37-5931-4eae-abe8-bc2341f03996\")>,\n",
       " <selenium.webdriver.remote.webelement.WebElement (session=\"4a1c64297d584371b09b65e4ad5639a2\", element=\"5fa71f54-ff5a-4b40-b7d6-db13e11f7901\")>,\n",
       " <selenium.webdriver.remote.webelement.WebElement (session=\"4a1c64297d584371b09b65e4ad5639a2\", element=\"c6af88e4-a5e3-4fca-86d7-94167d849b28\")>,\n",
       " <selenium.webdriver.remote.webelement.WebElement (session=\"4a1c64297d584371b09b65e4ad5639a2\", element=\"e230f6d4-d38c-426a-808f-285760522ae3\")>,\n",
       " <selenium.webdriver.remote.webelement.WebElement (session=\"4a1c64297d584371b09b65e4ad5639a2\", element=\"1548fcb5-94cd-4ed6-8193-ddcb76c30c26\")>,\n",
       " <selenium.webdriver.remote.webelement.WebElement (session=\"4a1c64297d584371b09b65e4ad5639a2\", element=\"688db435-e6f4-43ae-99b3-51ba3a757d5c\")>,\n",
       " <selenium.webdriver.remote.webelement.WebElement (session=\"4a1c64297d584371b09b65e4ad5639a2\", element=\"3b1673fc-dfc0-4a91-a200-34be608e48e7\")>,\n",
       " <selenium.webdriver.remote.webelement.WebElement (session=\"4a1c64297d584371b09b65e4ad5639a2\", element=\"717c1a0d-f602-4c29-9c71-5516bee1471c\")>]"
      ]
     },
     "execution_count": 227,
     "metadata": {},
     "output_type": "execute_result"
    }
   ],
   "source": [
    "#scrapoing company names\n",
    "company_name = driver.find_elements(By.XPATH,\"//p[@class='company body-medium']\")\n",
    "company_name"
   ]
  },
  {
   "cell_type": "code",
   "execution_count": 228,
   "id": "5c0eb0e9",
   "metadata": {},
   "outputs": [
    {
     "data": {
      "text/plain": [
       "10"
      ]
     },
     "execution_count": 228,
     "metadata": {},
     "output_type": "execute_result"
    }
   ],
   "source": [
    "company = []\n",
    "\n",
    "for i in company_name:\n",
    "    company.append(i.text)\n",
    "    \n",
    "len(company) "
   ]
  },
  {
   "cell_type": "code",
   "execution_count": 229,
   "id": "eb145c8e",
   "metadata": {},
   "outputs": [
    {
     "data": {
      "text/plain": [
       "[<selenium.webdriver.remote.webelement.WebElement (session=\"4a1c64297d584371b09b65e4ad5639a2\", element=\"ac7af0be-777e-462a-9a52-75fc6897d61b\")>,\n",
       " <selenium.webdriver.remote.webelement.WebElement (session=\"4a1c64297d584371b09b65e4ad5639a2\", element=\"7ef08913-e254-458c-a784-6e6059efdec6\")>,\n",
       " <selenium.webdriver.remote.webelement.WebElement (session=\"4a1c64297d584371b09b65e4ad5639a2\", element=\"79e09133-ca53-47c0-8ad9-e3be527a3a4d\")>,\n",
       " <selenium.webdriver.remote.webelement.WebElement (session=\"4a1c64297d584371b09b65e4ad5639a2\", element=\"507f77f1-c37f-4ef6-8351-a3a26d78bad5\")>,\n",
       " <selenium.webdriver.remote.webelement.WebElement (session=\"4a1c64297d584371b09b65e4ad5639a2\", element=\"37447ecb-7a25-4dbc-a805-52ab2eb4f408\")>,\n",
       " <selenium.webdriver.remote.webelement.WebElement (session=\"4a1c64297d584371b09b65e4ad5639a2\", element=\"fceb2ca6-0c09-4283-bc54-f1b271bb0b90\")>,\n",
       " <selenium.webdriver.remote.webelement.WebElement (session=\"4a1c64297d584371b09b65e4ad5639a2\", element=\"dd0f9bc6-0a4f-4278-aac5-6c543f319adf\")>,\n",
       " <selenium.webdriver.remote.webelement.WebElement (session=\"4a1c64297d584371b09b65e4ad5639a2\", element=\"47437961-16a5-493a-bb1d-a50d2a80e156\")>,\n",
       " <selenium.webdriver.remote.webelement.WebElement (session=\"4a1c64297d584371b09b65e4ad5639a2\", element=\"8e954f75-ed1b-47e0-9105-9c8a75a0a088\")>,\n",
       " <selenium.webdriver.remote.webelement.WebElement (session=\"4a1c64297d584371b09b65e4ad5639a2\", element=\"8d722a56-5d8c-4974-b0ef-e0803ab6c396\")>,\n",
       " <selenium.webdriver.remote.webelement.WebElement (session=\"4a1c64297d584371b09b65e4ad5639a2\", element=\"24055e01-2718-48b5-a601-fc1552b234b0\")>,\n",
       " <selenium.webdriver.remote.webelement.WebElement (session=\"4a1c64297d584371b09b65e4ad5639a2\", element=\"a89a2b80-765f-43e3-91e9-d80e6ac5d15d\")>,\n",
       " <selenium.webdriver.remote.webelement.WebElement (session=\"4a1c64297d584371b09b65e4ad5639a2\", element=\"bc8e74f2-0bc8-48af-8043-3c15b5420bd8\")>,\n",
       " <selenium.webdriver.remote.webelement.WebElement (session=\"4a1c64297d584371b09b65e4ad5639a2\", element=\"9620ad36-f8ee-46f1-9597-92d467db8f5c\")>,\n",
       " <selenium.webdriver.remote.webelement.WebElement (session=\"4a1c64297d584371b09b65e4ad5639a2\", element=\"411a4f81-af5d-4485-82d0-384f0fdd6cae\")>,\n",
       " <selenium.webdriver.remote.webelement.WebElement (session=\"4a1c64297d584371b09b65e4ad5639a2\", element=\"ee93f923-89d3-4fb1-ba64-6ae302bde9e0\")>,\n",
       " <selenium.webdriver.remote.webelement.WebElement (session=\"4a1c64297d584371b09b65e4ad5639a2\", element=\"70d7f408-8d10-4cde-a37e-c2d542d3d24f\")>,\n",
       " <selenium.webdriver.remote.webelement.WebElement (session=\"4a1c64297d584371b09b65e4ad5639a2\", element=\"fdf6615c-0cee-4119-8614-4e7d6ec0fb38\")>,\n",
       " <selenium.webdriver.remote.webelement.WebElement (session=\"4a1c64297d584371b09b65e4ad5639a2\", element=\"224c3ca4-75a3-4a7a-8f15-d923ad765e3a\")>,\n",
       " <selenium.webdriver.remote.webelement.WebElement (session=\"4a1c64297d584371b09b65e4ad5639a2\", element=\"eddd740b-46e1-4d34-81bb-d2ad32955898\")>]"
      ]
     },
     "execution_count": 229,
     "metadata": {},
     "output_type": "execute_result"
    }
   ],
   "source": [
    "#scrapoing post date\n",
    "date = driver.find_elements(By.XPATH,\"//span[@class='body-small-l']\")\n",
    "date"
   ]
  },
  {
   "cell_type": "code",
   "execution_count": 230,
   "id": "4343766c",
   "metadata": {},
   "outputs": [
    {
     "data": {
      "text/plain": [
       "20"
      ]
     },
     "execution_count": 230,
     "metadata": {},
     "output_type": "execute_result"
    }
   ],
   "source": [
    "Date = []\n",
    "\n",
    "for i in date:\n",
    "    Date.append(i.text)\n",
    "    \n",
    "len(Date) "
   ]
  },
  {
   "cell_type": "code",
   "execution_count": 231,
   "id": "13b7b129",
   "metadata": {},
   "outputs": [
    {
     "data": {
      "text/plain": [
       "[<selenium.webdriver.remote.webelement.WebElement (session=\"4a1c64297d584371b09b65e4ad5639a2\", element=\"16f459fc-db95-45dc-8b63-0275ee5bb0e8\")>,\n",
       " <selenium.webdriver.remote.webelement.WebElement (session=\"4a1c64297d584371b09b65e4ad5639a2\", element=\"03ee585d-28e3-48bc-9024-625c845fb5f6\")>,\n",
       " <selenium.webdriver.remote.webelement.WebElement (session=\"4a1c64297d584371b09b65e4ad5639a2\", element=\"6e31f72a-4b28-4be1-b722-96c4bfc1bb0d\")>,\n",
       " <selenium.webdriver.remote.webelement.WebElement (session=\"4a1c64297d584371b09b65e4ad5639a2\", element=\"e398a17f-1fdd-4a4b-bd5f-550ced9751c2\")>,\n",
       " <selenium.webdriver.remote.webelement.WebElement (session=\"4a1c64297d584371b09b65e4ad5639a2\", element=\"976bf914-06c6-47e4-82d4-8e14ff5d570e\")>,\n",
       " <selenium.webdriver.remote.webelement.WebElement (session=\"4a1c64297d584371b09b65e4ad5639a2\", element=\"f38ebc9e-fa10-4670-89f1-b536f6c0dc5c\")>,\n",
       " <selenium.webdriver.remote.webelement.WebElement (session=\"4a1c64297d584371b09b65e4ad5639a2\", element=\"8bfe93ac-882f-47ae-b1b5-edbad60844e4\")>,\n",
       " <selenium.webdriver.remote.webelement.WebElement (session=\"4a1c64297d584371b09b65e4ad5639a2\", element=\"50efb038-778a-49ac-9ec8-25a8bc389f74\")>,\n",
       " <selenium.webdriver.remote.webelement.WebElement (session=\"4a1c64297d584371b09b65e4ad5639a2\", element=\"472144b1-7309-4715-9475-4945675ab9dd\")>,\n",
       " <selenium.webdriver.remote.webelement.WebElement (session=\"4a1c64297d584371b09b65e4ad5639a2\", element=\"28b92ca9-3715-4d0a-a112-bf8735b30421\")>]"
      ]
     },
     "execution_count": 231,
     "metadata": {},
     "output_type": "execute_result"
    }
   ],
   "source": [
    "#scrapoing rating of compony\n",
    "company_rating = driver.find_elements(By.XPATH,\"//span[@class='body-small']\")\n",
    "company_rating"
   ]
  },
  {
   "cell_type": "code",
   "execution_count": 233,
   "id": "0528dd5d",
   "metadata": {},
   "outputs": [
    {
     "data": {
      "text/plain": [
       "10"
      ]
     },
     "execution_count": 233,
     "metadata": {},
     "output_type": "execute_result"
    }
   ],
   "source": [
    "Company_rating = []\n",
    "\n",
    "for i in company_rating:\n",
    "    Company_rating.append(i.text)\n",
    "    \n",
    "len(Company_rating) "
   ]
  },
  {
   "cell_type": "code",
   "execution_count": 234,
   "id": "24cc7aeb",
   "metadata": {},
   "outputs": [],
   "source": [
    "#creating dataframe\n",
    "Data_Scientist = pd.DataFrame()\n",
    "Data_Scientist['Job Title'] = Job_title[:10]\n",
    "Data_Scientist['Company Name'] = company[:10]\n",
    "Data_Scientist['Date of post'] = Date[:10]\n",
    "Data_Scientist['Rating'] = Company_rating[:10]"
   ]
  },
  {
   "cell_type": "code",
   "execution_count": 235,
   "id": "47460fdb",
   "metadata": {},
   "outputs": [
    {
     "data": {
      "text/html": [
       "<div>\n",
       "<style scoped>\n",
       "    .dataframe tbody tr th:only-of-type {\n",
       "        vertical-align: middle;\n",
       "    }\n",
       "\n",
       "    .dataframe tbody tr th {\n",
       "        vertical-align: top;\n",
       "    }\n",
       "\n",
       "    .dataframe thead th {\n",
       "        text-align: right;\n",
       "    }\n",
       "</style>\n",
       "<table border=\"1\" class=\"dataframe\">\n",
       "  <thead>\n",
       "    <tr style=\"text-align: right;\">\n",
       "      <th></th>\n",
       "      <th>Job Title</th>\n",
       "      <th>Company Name</th>\n",
       "      <th>Date of post</th>\n",
       "      <th>Rating</th>\n",
       "    </tr>\n",
       "  </thead>\n",
       "  <tbody>\n",
       "    <tr>\n",
       "      <th>0</th>\n",
       "      <td>Senior Data Scientist</td>\n",
       "      <td>Optum Global Solutions (India) Private Limited</td>\n",
       "      <td>8d ago</td>\n",
       "      <td>4.1</td>\n",
       "    </tr>\n",
       "    <tr>\n",
       "      <th>1</th>\n",
       "      <td>Data Scientist- Forecasting and R or Python</td>\n",
       "      <td>GENPACT India Private Limited</td>\n",
       "      <td>via naukri.com</td>\n",
       "      <td>4.0</td>\n",
       "    </tr>\n",
       "    <tr>\n",
       "      <th>2</th>\n",
       "      <td>Data Scientist - Machine Learning Algorithms (...</td>\n",
       "      <td>Dew Solutions Pvt. Ltd.</td>\n",
       "      <td>15d ago</td>\n",
       "      <td>4.3</td>\n",
       "    </tr>\n",
       "    <tr>\n",
       "      <th>3</th>\n",
       "      <td>Data Scientist - Machine Learning/Big Data (0-...</td>\n",
       "      <td>InfoEdge India Ltd.</td>\n",
       "      <td>via naukri.com</td>\n",
       "      <td>3.9</td>\n",
       "    </tr>\n",
       "    <tr>\n",
       "      <th>4</th>\n",
       "      <td>Info Edge - Data Scientist - Machine Learning/...</td>\n",
       "      <td>Info Edge India Limited</td>\n",
       "      <td>6d ago</td>\n",
       "      <td>3.9</td>\n",
       "    </tr>\n",
       "    <tr>\n",
       "      <th>5</th>\n",
       "      <td>Info Edge - Senior Data Scientist - Machine Le...</td>\n",
       "      <td>Info Edge India Limited</td>\n",
       "      <td>via hirist.com</td>\n",
       "      <td>3.9</td>\n",
       "    </tr>\n",
       "    <tr>\n",
       "      <th>6</th>\n",
       "      <td>LatentBridge - Data Scientist - Python/R (2-6 ...</td>\n",
       "      <td>Latent bridge</td>\n",
       "      <td>13d ago</td>\n",
       "      <td>4.5</td>\n",
       "    </tr>\n",
       "    <tr>\n",
       "      <th>7</th>\n",
       "      <td>Data Science Trainer | AI | Machine Learning |...</td>\n",
       "      <td>Careerera</td>\n",
       "      <td>via hirist.com</td>\n",
       "      <td>3.8</td>\n",
       "    </tr>\n",
       "    <tr>\n",
       "      <th>8</th>\n",
       "      <td>Principal Scientist - Machine Learning - IT (1...</td>\n",
       "      <td>Careernet Consulting</td>\n",
       "      <td>14d ago</td>\n",
       "      <td>3.9</td>\n",
       "    </tr>\n",
       "    <tr>\n",
       "      <th>9</th>\n",
       "      <td>Data Scientist - NLP</td>\n",
       "      <td>Acidaes Solutions Pvt. Ltd.</td>\n",
       "      <td>via hirist.com</td>\n",
       "      <td>3.8</td>\n",
       "    </tr>\n",
       "  </tbody>\n",
       "</table>\n",
       "</div>"
      ],
      "text/plain": [
       "                                           Job Title  \\\n",
       "0                              Senior Data Scientist   \n",
       "1        Data Scientist- Forecasting and R or Python   \n",
       "2  Data Scientist - Machine Learning Algorithms (...   \n",
       "3  Data Scientist - Machine Learning/Big Data (0-...   \n",
       "4  Info Edge - Data Scientist - Machine Learning/...   \n",
       "5  Info Edge - Senior Data Scientist - Machine Le...   \n",
       "6  LatentBridge - Data Scientist - Python/R (2-6 ...   \n",
       "7  Data Science Trainer | AI | Machine Learning |...   \n",
       "8  Principal Scientist - Machine Learning - IT (1...   \n",
       "9                               Data Scientist - NLP   \n",
       "\n",
       "                                     Company Name    Date of post Rating  \n",
       "0  Optum Global Solutions (India) Private Limited          8d ago    4.1  \n",
       "1                   GENPACT India Private Limited  via naukri.com    4.0  \n",
       "2                         Dew Solutions Pvt. Ltd.         15d ago    4.3  \n",
       "3                             InfoEdge India Ltd.  via naukri.com    3.9  \n",
       "4                         Info Edge India Limited          6d ago    3.9  \n",
       "5                         Info Edge India Limited  via hirist.com    3.9  \n",
       "6                                   Latent bridge         13d ago    4.5  \n",
       "7                                       Careerera  via hirist.com    3.8  \n",
       "8                            Careernet Consulting         14d ago    3.9  \n",
       "9                     Acidaes Solutions Pvt. Ltd.  via hirist.com    3.8  "
      ]
     },
     "execution_count": 235,
     "metadata": {},
     "output_type": "execute_result"
    }
   ],
   "source": [
    "Data_Scientist"
   ]
  },
  {
   "cell_type": "code",
   "execution_count": 236,
   "id": "2c1c9175",
   "metadata": {},
   "outputs": [],
   "source": [
    "driver.close()"
   ]
  },
  {
   "cell_type": "markdown",
   "id": "7b678330",
   "metadata": {},
   "source": [
    "# Q.10: Write a python program to scrape the salary data for Data Scientist designation. You have to scrape Company name, Number of salaries, Average salary, Minsalary, Max Salary"
   ]
  },
  {
   "cell_type": "code",
   "execution_count": 237,
   "id": "ef7658cc",
   "metadata": {},
   "outputs": [],
   "source": [
    "#connecting with driver.\n",
    "driver = webdriver.Chrome(r'C:\\Users\\Arun\\Downloads\\chromedriver_win32 (1)/chromedriver.exe')"
   ]
  },
  {
   "cell_type": "code",
   "execution_count": 246,
   "id": "c613a2eb",
   "metadata": {},
   "outputs": [],
   "source": [
    "url = 'https://www.ambitionbox.com/'\n",
    "driver.get(url)"
   ]
  },
  {
   "cell_type": "code",
   "execution_count": 247,
   "id": "de34f769",
   "metadata": {},
   "outputs": [
    {
     "data": {
      "text/plain": [
       "<selenium.webdriver.remote.webelement.WebElement (session=\"c93ea1fe362959a1187edadd2bc7b12f\", element=\"645e9fd9-10f8-4994-bfd8-245c94940234\")>"
      ]
     },
     "execution_count": 247,
     "metadata": {},
     "output_type": "execute_result"
    }
   ],
   "source": [
    "click_salary = driver.find_element(By.XPATH,\"/html/body/div[1]/nav/nav/a[4]\")\n",
    "click_salary"
   ]
  },
  {
   "cell_type": "code",
   "execution_count": 248,
   "id": "9db77cfa",
   "metadata": {},
   "outputs": [],
   "source": [
    "click_salary.click()"
   ]
  },
  {
   "cell_type": "code",
   "execution_count": 250,
   "id": "094b7bb7",
   "metadata": {},
   "outputs": [
    {
     "data": {
      "text/plain": [
       "<selenium.webdriver.remote.webelement.WebElement (session=\"c93ea1fe362959a1187edadd2bc7b12f\", element=\"08dc9a5d-bab6-4754-be9a-924b2f395bfe\")>"
      ]
     },
     "execution_count": 250,
     "metadata": {},
     "output_type": "execute_result"
    }
   ],
   "source": [
    "search_job_salary = driver.find_element(By.XPATH,\"/html/body/div/div/div/main/section[1]/div[2]/div[1]/span/input\")\n",
    "search_job_salary"
   ]
  },
  {
   "cell_type": "code",
   "execution_count": 251,
   "id": "6f110b6c",
   "metadata": {},
   "outputs": [],
   "source": [
    "search_job_salary.send_keys('Data Scientist')"
   ]
  },
  {
   "cell_type": "code",
   "execution_count": 254,
   "id": "38092693",
   "metadata": {},
   "outputs": [
    {
     "data": {
      "text/plain": [
       "<selenium.webdriver.remote.webelement.WebElement (session=\"c93ea1fe362959a1187edadd2bc7b12f\", element=\"38ef85bb-e164-4d4d-87a8-52f75a5ca1fc\")>"
      ]
     },
     "execution_count": 254,
     "metadata": {},
     "output_type": "execute_result"
    }
   ],
   "source": [
    "search_result_salary = driver.find_element(By.XPATH,'/html/body/div/div/div/main/section[1]/div[2]/div[1]/span/div')\n",
    "search_result_salary"
   ]
  },
  {
   "cell_type": "code",
   "execution_count": 261,
   "id": "d7112133",
   "metadata": {},
   "outputs": [
    {
     "data": {
      "text/plain": [
       "[<selenium.webdriver.remote.webelement.WebElement (session=\"c93ea1fe362959a1187edadd2bc7b12f\", element=\"2b43f3ac-9de9-4725-b773-ab90d5a16628\")>,\n",
       " <selenium.webdriver.remote.webelement.WebElement (session=\"c93ea1fe362959a1187edadd2bc7b12f\", element=\"9564469c-cadb-4264-93ee-99b53031dd66\")>,\n",
       " <selenium.webdriver.remote.webelement.WebElement (session=\"c93ea1fe362959a1187edadd2bc7b12f\", element=\"c2d23b9f-f056-484c-98a1-da054dadcfa4\")>,\n",
       " <selenium.webdriver.remote.webelement.WebElement (session=\"c93ea1fe362959a1187edadd2bc7b12f\", element=\"9557e3bb-a937-4957-b1a3-3f8a4db36347\")>,\n",
       " <selenium.webdriver.remote.webelement.WebElement (session=\"c93ea1fe362959a1187edadd2bc7b12f\", element=\"3d5adb86-4173-4cc7-abc1-39435c58d5b3\")>,\n",
       " <selenium.webdriver.remote.webelement.WebElement (session=\"c93ea1fe362959a1187edadd2bc7b12f\", element=\"5ba88b7c-0ef9-4bf6-a787-1d56ee3d6d69\")>,\n",
       " <selenium.webdriver.remote.webelement.WebElement (session=\"c93ea1fe362959a1187edadd2bc7b12f\", element=\"793d0146-cbea-42ef-9f7e-09bb3a22e6ff\")>,\n",
       " <selenium.webdriver.remote.webelement.WebElement (session=\"c93ea1fe362959a1187edadd2bc7b12f\", element=\"bcbd28ed-c712-4a1d-8134-7471009bd17f\")>,\n",
       " <selenium.webdriver.remote.webelement.WebElement (session=\"c93ea1fe362959a1187edadd2bc7b12f\", element=\"d7abda85-abd2-4ff3-a7a4-71e3c3b4e3f4\")>,\n",
       " <selenium.webdriver.remote.webelement.WebElement (session=\"c93ea1fe362959a1187edadd2bc7b12f\", element=\"866a1c6f-b9ab-4a93-b2aa-a2f6dbf22526\")>,\n",
       " <selenium.webdriver.remote.webelement.WebElement (session=\"c93ea1fe362959a1187edadd2bc7b12f\", element=\"70d17332-03a4-4a47-ae4e-cbac24f1d7ac\")>,\n",
       " <selenium.webdriver.remote.webelement.WebElement (session=\"c93ea1fe362959a1187edadd2bc7b12f\", element=\"7c6676ac-1805-4389-a853-f56bef41f050\")>,\n",
       " <selenium.webdriver.remote.webelement.WebElement (session=\"c93ea1fe362959a1187edadd2bc7b12f\", element=\"f55bfeac-01d2-4850-858b-6d3541c9387f\")>,\n",
       " <selenium.webdriver.remote.webelement.WebElement (session=\"c93ea1fe362959a1187edadd2bc7b12f\", element=\"1d144940-5e40-4fe4-b520-3d857eb2cffd\")>,\n",
       " <selenium.webdriver.remote.webelement.WebElement (session=\"c93ea1fe362959a1187edadd2bc7b12f\", element=\"906d6327-48cf-4fe1-b72d-b5efc30f3a0b\")>,\n",
       " <selenium.webdriver.remote.webelement.WebElement (session=\"c93ea1fe362959a1187edadd2bc7b12f\", element=\"9728312e-1daf-4c9c-a013-8c4ec863b9f9\")>,\n",
       " <selenium.webdriver.remote.webelement.WebElement (session=\"c93ea1fe362959a1187edadd2bc7b12f\", element=\"cd9306fd-1cb0-411b-a2a5-0c1e872703e1\")>,\n",
       " <selenium.webdriver.remote.webelement.WebElement (session=\"c93ea1fe362959a1187edadd2bc7b12f\", element=\"61a04e01-de2b-410c-9d5f-f78b7d4ad6db\")>,\n",
       " <selenium.webdriver.remote.webelement.WebElement (session=\"c93ea1fe362959a1187edadd2bc7b12f\", element=\"13e83947-4bf5-4128-af52-4e9922a5d191\")>,\n",
       " <selenium.webdriver.remote.webelement.WebElement (session=\"c93ea1fe362959a1187edadd2bc7b12f\", element=\"6fdd6d86-b2d3-4ae7-9d3f-288fe51a00dd\")>,\n",
       " <selenium.webdriver.remote.webelement.WebElement (session=\"c93ea1fe362959a1187edadd2bc7b12f\", element=\"f679a299-1530-4add-b29b-ed5370eb73d1\")>,\n",
       " <selenium.webdriver.remote.webelement.WebElement (session=\"c93ea1fe362959a1187edadd2bc7b12f\", element=\"7c107a23-8990-4685-8966-47ecd65bbb0e\")>,\n",
       " <selenium.webdriver.remote.webelement.WebElement (session=\"c93ea1fe362959a1187edadd2bc7b12f\", element=\"730c1a5e-9133-4f57-bcb3-3e34e1ba8fd0\")>,\n",
       " <selenium.webdriver.remote.webelement.WebElement (session=\"c93ea1fe362959a1187edadd2bc7b12f\", element=\"b24861f0-a142-4921-acd9-4a70d8726155\")>,\n",
       " <selenium.webdriver.remote.webelement.WebElement (session=\"c93ea1fe362959a1187edadd2bc7b12f\", element=\"39546fd7-3627-4773-8436-c6eefb7cdc8d\")>]"
      ]
     },
     "execution_count": 261,
     "metadata": {},
     "output_type": "execute_result"
    }
   ],
   "source": [
    "company_name_salary = driver.find_elements(By.XPATH,\"//div[@class='company-info']\")\n",
    "company_name_salary"
   ]
  },
  {
   "cell_type": "code",
   "execution_count": 275,
   "id": "db00d2de",
   "metadata": {},
   "outputs": [
    {
     "data": {
      "text/plain": [
       "25"
      ]
     },
     "execution_count": 275,
     "metadata": {},
     "output_type": "execute_result"
    }
   ],
   "source": [
    "company_info = []\n",
    "\n",
    "for i in company_name_salary:\n",
    "    company_info.append(i.text)\n",
    "    \n",
    "len(company_info)"
   ]
  },
  {
   "cell_type": "code",
   "execution_count": null,
   "id": "01d074cd",
   "metadata": {},
   "outputs": [],
   "source": []
  },
  {
   "cell_type": "code",
   "execution_count": 268,
   "id": "9095fde8",
   "metadata": {},
   "outputs": [
    {
     "data": {
      "text/plain": [
       "[<selenium.webdriver.remote.webelement.WebElement (session=\"c93ea1fe362959a1187edadd2bc7b12f\", element=\"4c792198-0ca7-4365-b8bd-70803992f24e\")>,\n",
       " <selenium.webdriver.remote.webelement.WebElement (session=\"c93ea1fe362959a1187edadd2bc7b12f\", element=\"0366a9e2-1743-40ab-baaf-4d1c984d61e5\")>,\n",
       " <selenium.webdriver.remote.webelement.WebElement (session=\"c93ea1fe362959a1187edadd2bc7b12f\", element=\"7921f392-894a-4058-b090-78288a6ef276\")>,\n",
       " <selenium.webdriver.remote.webelement.WebElement (session=\"c93ea1fe362959a1187edadd2bc7b12f\", element=\"47c39899-7853-4d57-8aa2-a303867418a1\")>,\n",
       " <selenium.webdriver.remote.webelement.WebElement (session=\"c93ea1fe362959a1187edadd2bc7b12f\", element=\"d9744475-d713-40b9-a453-4f526f96e5de\")>,\n",
       " <selenium.webdriver.remote.webelement.WebElement (session=\"c93ea1fe362959a1187edadd2bc7b12f\", element=\"3fdb68b1-e2bd-40b3-9cc2-38b23faa77b4\")>,\n",
       " <selenium.webdriver.remote.webelement.WebElement (session=\"c93ea1fe362959a1187edadd2bc7b12f\", element=\"9eab79d8-6213-49fb-a79a-33ab9ff4c376\")>,\n",
       " <selenium.webdriver.remote.webelement.WebElement (session=\"c93ea1fe362959a1187edadd2bc7b12f\", element=\"a35f9431-b536-4bfc-bf51-5a22aa9fc030\")>,\n",
       " <selenium.webdriver.remote.webelement.WebElement (session=\"c93ea1fe362959a1187edadd2bc7b12f\", element=\"bc943382-44ff-4c16-bb90-084b31b24d0d\")>,\n",
       " <selenium.webdriver.remote.webelement.WebElement (session=\"c93ea1fe362959a1187edadd2bc7b12f\", element=\"3b7d5244-6b2d-4faf-9c90-69a63488b01c\")>]"
      ]
     },
     "execution_count": 268,
     "metadata": {},
     "output_type": "execute_result"
    }
   ],
   "source": [
    "average_salary = driver.find_elements(By.XPATH,\"//p[@class='averageCtc']\")\n",
    "average_salary"
   ]
  },
  {
   "cell_type": "code",
   "execution_count": 269,
   "id": "3880fd68",
   "metadata": {},
   "outputs": [
    {
     "data": {
      "text/plain": [
       "10"
      ]
     },
     "execution_count": 269,
     "metadata": {},
     "output_type": "execute_result"
    }
   ],
   "source": [
    "Average = []\n",
    "\n",
    "for i in average_salary:\n",
    "    Average.append(i.text)\n",
    "    \n",
    "len(Average)"
   ]
  },
  {
   "cell_type": "code",
   "execution_count": 270,
   "id": "d3ea9bde",
   "metadata": {},
   "outputs": [
    {
     "data": {
      "text/plain": [
       "[<selenium.webdriver.remote.webelement.WebElement (session=\"c93ea1fe362959a1187edadd2bc7b12f\", element=\"5f46fa53-5e81-4270-bb61-56c399ab6b8a\")>,\n",
       " <selenium.webdriver.remote.webelement.WebElement (session=\"c93ea1fe362959a1187edadd2bc7b12f\", element=\"ef8a9882-3c35-47e3-95ed-18dcac92f56c\")>,\n",
       " <selenium.webdriver.remote.webelement.WebElement (session=\"c93ea1fe362959a1187edadd2bc7b12f\", element=\"0e1c12cd-700f-467f-9d8e-4a38d58c1fc3\")>,\n",
       " <selenium.webdriver.remote.webelement.WebElement (session=\"c93ea1fe362959a1187edadd2bc7b12f\", element=\"c603d805-77cb-4cdc-bdbb-8a74148fdbfb\")>,\n",
       " <selenium.webdriver.remote.webelement.WebElement (session=\"c93ea1fe362959a1187edadd2bc7b12f\", element=\"1ba73fa7-582a-40fa-b139-699b77419640\")>,\n",
       " <selenium.webdriver.remote.webelement.WebElement (session=\"c93ea1fe362959a1187edadd2bc7b12f\", element=\"74f0aefd-a1ff-42a2-a8e8-3bb68350340c\")>,\n",
       " <selenium.webdriver.remote.webelement.WebElement (session=\"c93ea1fe362959a1187edadd2bc7b12f\", element=\"a1d2b6e3-7f5a-4d47-8309-00f1baff9c83\")>,\n",
       " <selenium.webdriver.remote.webelement.WebElement (session=\"c93ea1fe362959a1187edadd2bc7b12f\", element=\"d4213c94-8499-4957-9b83-44fdb3274116\")>,\n",
       " <selenium.webdriver.remote.webelement.WebElement (session=\"c93ea1fe362959a1187edadd2bc7b12f\", element=\"fb264db7-d0e2-441b-832f-f6883c4a35ea\")>,\n",
       " <selenium.webdriver.remote.webelement.WebElement (session=\"c93ea1fe362959a1187edadd2bc7b12f\", element=\"a2f6d117-40dd-4db7-abdf-edaef1548b00\")>,\n",
       " <selenium.webdriver.remote.webelement.WebElement (session=\"c93ea1fe362959a1187edadd2bc7b12f\", element=\"d34befc4-e456-4787-b019-3b7c47272cbc\")>,\n",
       " <selenium.webdriver.remote.webelement.WebElement (session=\"c93ea1fe362959a1187edadd2bc7b12f\", element=\"0306b671-f205-49da-a194-c52c5e0d0961\")>,\n",
       " <selenium.webdriver.remote.webelement.WebElement (session=\"c93ea1fe362959a1187edadd2bc7b12f\", element=\"1e997b9b-8573-4f91-814c-3a674a891e98\")>,\n",
       " <selenium.webdriver.remote.webelement.WebElement (session=\"c93ea1fe362959a1187edadd2bc7b12f\", element=\"926b52c7-5ee3-4489-8faa-944bfcb3fbdf\")>,\n",
       " <selenium.webdriver.remote.webelement.WebElement (session=\"c93ea1fe362959a1187edadd2bc7b12f\", element=\"f04caa87-ddf5-494a-913b-f8aaf780eda4\")>,\n",
       " <selenium.webdriver.remote.webelement.WebElement (session=\"c93ea1fe362959a1187edadd2bc7b12f\", element=\"a86838f4-005a-41be-af19-472873b83193\")>,\n",
       " <selenium.webdriver.remote.webelement.WebElement (session=\"c93ea1fe362959a1187edadd2bc7b12f\", element=\"5753ac3b-479f-4145-a736-76bad9f2ab88\")>,\n",
       " <selenium.webdriver.remote.webelement.WebElement (session=\"c93ea1fe362959a1187edadd2bc7b12f\", element=\"61f0d981-f493-41af-8f60-19cb0c44dac7\")>,\n",
       " <selenium.webdriver.remote.webelement.WebElement (session=\"c93ea1fe362959a1187edadd2bc7b12f\", element=\"37427fe8-c8e3-4346-9810-e90efdf20b92\")>,\n",
       " <selenium.webdriver.remote.webelement.WebElement (session=\"c93ea1fe362959a1187edadd2bc7b12f\", element=\"141987ee-2f18-42b8-9415-3e6ac65731e3\")>]"
      ]
     },
     "execution_count": 270,
     "metadata": {},
     "output_type": "execute_result"
    }
   ],
   "source": [
    "min_salary = driver.find_elements(By.XPATH,\"//div[@class='value body-medium']\")\n",
    "min_salary"
   ]
  },
  {
   "cell_type": "code",
   "execution_count": 271,
   "id": "cb407732",
   "metadata": {},
   "outputs": [
    {
     "data": {
      "text/plain": [
       "20"
      ]
     },
     "execution_count": 271,
     "metadata": {},
     "output_type": "execute_result"
    }
   ],
   "source": [
    "minimum = []\n",
    "\n",
    "for i in min_salary:\n",
    "    minimum.append(i.text)\n",
    "    \n",
    "len(minimum)"
   ]
  },
  {
   "cell_type": "code",
   "execution_count": 274,
   "id": "ec6a31e1",
   "metadata": {},
   "outputs": [
    {
     "data": {
      "text/plain": [
       "['₹ 25.0L',\n",
       " '₹ 36.0L',\n",
       " '₹ 15.0L',\n",
       " '₹ 26.2L',\n",
       " '₹ 11.0L',\n",
       " '₹ 22.0L',\n",
       " '₹ 11.0L',\n",
       " '₹ 22.5L',\n",
       " '₹ 5.6L',\n",
       " '₹ 26.2L',\n",
       " '₹ 10.0L',\n",
       " '₹ 23.0L',\n",
       " '₹ 9.0L',\n",
       " '₹ 20.0L',\n",
       " '₹ 8.3L',\n",
       " '₹ 21.1L',\n",
       " '₹ 7.6L',\n",
       " '₹ 21.0L',\n",
       " '₹ 7.0L',\n",
       " '₹ 25.0L']"
      ]
     },
     "execution_count": 274,
     "metadata": {},
     "output_type": "execute_result"
    }
   ],
   "source": [
    "minimum"
   ]
  },
  {
   "cell_type": "code",
   "execution_count": null,
   "id": "1e12d3fc",
   "metadata": {},
   "outputs": [],
   "source": []
  }
 ],
 "metadata": {
  "kernelspec": {
   "display_name": "Python 3 (ipykernel)",
   "language": "python",
   "name": "python3"
  },
  "language_info": {
   "codemirror_mode": {
    "name": "ipython",
    "version": 3
   },
   "file_extension": ".py",
   "mimetype": "text/x-python",
   "name": "python",
   "nbconvert_exporter": "python",
   "pygments_lexer": "ipython3",
   "version": "3.9.7"
  }
 },
 "nbformat": 4,
 "nbformat_minor": 5
}
